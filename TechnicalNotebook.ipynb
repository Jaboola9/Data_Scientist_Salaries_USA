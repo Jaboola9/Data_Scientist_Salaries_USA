{
 "cells": [
  {
   "cell_type": "code",
   "execution_count": null,
   "metadata": {},
   "outputs": [],
   "source": [
    "# Use the endpoint POST Create session to create a query session for LIVE FLIGHT SEARCH\n",
    "# Required: originPlace: \n",
    "#           destinationPlace: \n",
    "#           outboundDate:\n",
    "    \n",
    "#     Get back the session ID in the Location header from POST Create session.\n",
    "#     Poll the results using the endpoint GET Poll session results."
   ]
  },
  {
   "cell_type": "code",
   "execution_count": 1,
   "metadata": {},
   "outputs": [],
   "source": [
    "import SkyScan\n",
    "import sky as sk\n",
    "import pandas as pd\n",
    "import requests"
   ]
  },
  {
   "cell_type": "code",
   "execution_count": 68,
   "metadata": {},
   "outputs": [],
   "source": [
    "from pandas.io.json import json_normalize #package for flattening json in pandas df"
   ]
  },
  {
   "cell_type": "code",
   "execution_count": null,
   "metadata": {},
   "outputs": [],
   "source": [
    "# POST to initiate LIVE FLIGHT SEARCH\n",
    "\n",
    "post_url = sky_api_host + \"apiservices/pricing/v1.0\"\n",
    "\n",
    "payload = \"inboundDate=&cabinClass=&children=&infants=&country=&currency=&locale=&originPlace=&destinationPlace=&outboundDate=&adults=\"\n",
    "headers = {\n",
    "    'x-rapidapi-host': sky_api_host,\n",
    "    'x-rapidapi-key': sk.sky_key,\n",
    "    'content-type': \"application/x-www-form-urlencoded\"\n",
    "    }\n",
    "\n",
    "response = requests.request(\"POST\", post_url, data=payload, headers=headers)"
   ]
  },
  {
   "cell_type": "code",
   "execution_count": 3,
   "metadata": {},
   "outputs": [
    {
     "data": {
      "text/plain": [
       "'{\"Quotes\":[{\"QuoteId\":1,\"MinPrice\":117.0,\"Direct\":true,\"OutboundLeg\":{\"CarrierIds\":[851],\"OriginId\":81727,\"DestinationId\":60987,\"DepartureDate\":\"2019-09-28T00:00:00\"},\"QuoteDateTime\":\"2019-08-21T05:07:00\"}],\"Places\":[{\"PlaceId\":60987,\"IataCode\":\"JFK\",\"Name\":\"New York John F. Kennedy\",\"Type\":\"Station\",\"SkyscannerCode\":\"JFK\",\"CityName\":\"New York\",\"CityId\":\"NYCA\",\"CountryName\":\"United States\"},{\"PlaceId\":81727,\"IataCode\":\"SFO\",\"Name\":\"San Francisco International\",\"Type\":\"Station\",\"SkyscannerCode\":\"SFO\",\"CityName\":\"San Francisco\",\"CityId\":\"SFOA\",\"CountryName\":\"United States\"}],\"Carriers\":[{\"CarrierId\":833,\"Name\":\"American Airlines\"},{\"CarrierId\":851,\"Name\":\"Alaska Airlines\"},{\"CarrierId\":870,\"Name\":\"jetBlue\"},{\"CarrierId\":988,\"Name\":\"Delta\"}],\"Currencies\":[{\"Code\":\"USD\",\"Symbol\":\"$\",\"ThousandsSeparator\":\",\",\"DecimalSeparator\":\".\",\"SymbolOnLeft\":true,\"SpaceBetweenAmountAndSymbol\":false,\"RoundingCoefficient\":0,\"DecimalDigits\":2}]}'"
      ]
     },
     "execution_count": 3,
     "metadata": {},
     "output_type": "execute_result"
    }
   ],
   "source": [
    "# BROWSE QUOTES\n",
    "test_quote = SkyScan.browse_quotes('SFO-sky','JFK-sky', sk.key, '2019-09-28')\n",
    "test_quote.text"
   ]
  },
  {
   "cell_type": "code",
   "execution_count": 2,
   "metadata": {},
   "outputs": [
    {
     "data": {
      "text/plain": [
       "'{\"Routes\":[],\"Quotes\":[{\"QuoteId\":1,\"MinPrice\":248.0,\"Direct\":false,\"OutboundLeg\":{\"CarrierIds\":[833],\"OriginId\":81727,\"DestinationId\":60987,\"DepartureDate\":\"2019-09-01T00:00:00\"},\"QuoteDateTime\":\"2019-08-21T15:24:00\"},{\"QuoteId\":2,\"MinPrice\":305.0,\"Direct\":true,\"OutboundLeg\":{\"CarrierIds\":[870],\"OriginId\":81727,\"DestinationId\":60987,\"DepartureDate\":\"2019-09-01T00:00:00\"},\"QuoteDateTime\":\"2019-08-14T02:55:00\"},{\"QuoteId\":3,\"MinPrice\":319.0,\"Direct\":true,\"OutboundLeg\":{\"CarrierIds\":[851],\"OriginId\":81727,\"DestinationId\":60987,\"DepartureDate\":\"2019-09-02T00:00:00\"},\"QuoteDateTime\":\"2019-08-21T18:07:00\"},{\"QuoteId\":4,\"MinPrice\":250.0,\"Direct\":true,\"OutboundLeg\":{\"CarrierIds\":[851],\"OriginId\":81727,\"DestinationId\":60987,\"DepartureDate\":\"2019-09-03T00:00:00\"},\"QuoteDateTime\":\"2019-08-21T14:22:00\"},{\"QuoteId\":5,\"MinPrice\":152.0,\"Direct\":true,\"OutboundLeg\":{\"CarrierIds\":[988],\"OriginId\":81727,\"DestinationId\":60987,\"DepartureDate\":\"2019-09-04T00:00:00\"},\"QuoteDateTime\":\"2019-08-21T18:43:00\"},{\"QuoteId\":6,\"MinPrice\":149.0,\"Direct\":true,\"OutboundLeg\":{\"CarrierIds\":[851],\"OriginId\":81727,\"DestinationId\":60987,\"DepartureDate\":\"2019-09-05T00:00:00\"},\"QuoteDateTime\":\"2019-08-21T16:50:00\"},{\"QuoteId\":7,\"MinPrice\":141.0,\"Direct\":true,\"OutboundLeg\":{\"CarrierIds\":[870],\"OriginId\":81727,\"DestinationId\":60987,\"DepartureDate\":\"2019-09-06T00:00:00\"},\"QuoteDateTime\":\"2019-08-14T07:40:00\"},{\"QuoteId\":8,\"MinPrice\":141.0,\"Direct\":true,\"OutboundLeg\":{\"CarrierIds\":[870],\"OriginId\":81727,\"DestinationId\":60987,\"DepartureDate\":\"2019-09-07T00:00:00\"},\"QuoteDateTime\":\"2019-08-14T07:41:00\"},{\"QuoteId\":9,\"MinPrice\":149.0,\"Direct\":true,\"OutboundLeg\":{\"CarrierIds\":[870],\"OriginId\":81727,\"DestinationId\":60987,\"DepartureDate\":\"2019-09-08T00:00:00\"},\"QuoteDateTime\":\"2019-08-14T01:42:00\"},{\"QuoteId\":10,\"MinPrice\":152.0,\"Direct\":true,\"OutboundLeg\":{\"CarrierIds\":[833],\"OriginId\":81727,\"DestinationId\":60987,\"DepartureDate\":\"2019-09-09T00:00:00\"},\"QuoteDateTime\":\"2019-08-21T17:37:00\"},{\"QuoteId\":11,\"MinPrice\":112.0,\"Direct\":true,\"OutboundLeg\":{\"CarrierIds\":[870],\"OriginId\":81727,\"DestinationId\":60987,\"DepartureDate\":\"2019-09-10T00:00:00\"},\"QuoteDateTime\":\"2019-08-14T06:58:00\"},{\"QuoteId\":12,\"MinPrice\":112.0,\"Direct\":true,\"OutboundLeg\":{\"CarrierIds\":[870],\"OriginId\":81727,\"DestinationId\":60987,\"DepartureDate\":\"2019-09-11T00:00:00\"},\"QuoteDateTime\":\"2019-08-14T03:09:00\"},{\"QuoteId\":13,\"MinPrice\":158.0,\"Direct\":false,\"OutboundLeg\":{\"CarrierIds\":[833],\"OriginId\":81727,\"DestinationId\":60987,\"DepartureDate\":\"2019-09-12T00:00:00\"},\"QuoteDateTime\":\"2019-08-21T17:44:00\"},{\"QuoteId\":14,\"MinPrice\":160.0,\"Direct\":true,\"OutboundLeg\":{\"CarrierIds\":[851],\"OriginId\":81727,\"DestinationId\":60987,\"DepartureDate\":\"2019-09-12T00:00:00\"},\"QuoteDateTime\":\"2019-08-21T17:44:00\"},{\"QuoteId\":15,\"MinPrice\":132.0,\"Direct\":true,\"OutboundLeg\":{\"CarrierIds\":[988],\"OriginId\":81727,\"DestinationId\":60987,\"DepartureDate\":\"2019-09-13T00:00:00\"},\"QuoteDateTime\":\"2019-08-21T15:53:00\"},{\"QuoteId\":16,\"MinPrice\":117.0,\"Direct\":true,\"OutboundLeg\":{\"CarrierIds\":[851],\"OriginId\":81727,\"DestinationId\":60987,\"DepartureDate\":\"2019-09-14T00:00:00\"},\"QuoteDateTime\":\"2019-08-20T19:34:00\"},{\"QuoteId\":17,\"MinPrice\":150.0,\"Direct\":true,\"OutboundLeg\":{\"CarrierIds\":[870],\"OriginId\":81727,\"DestinationId\":60987,\"DepartureDate\":\"2019-09-15T00:00:00\"},\"QuoteDateTime\":\"2019-08-14T00:45:00\"},{\"QuoteId\":18,\"MinPrice\":117.0,\"Direct\":true,\"OutboundLeg\":{\"CarrierIds\":[851],\"OriginId\":81727,\"DestinationId\":60987,\"DepartureDate\":\"2019-09-16T00:00:00\"},\"QuoteDateTime\":\"2019-08-21T17:32:00\"},{\"QuoteId\":19,\"MinPrice\":112.0,\"Direct\":true,\"OutboundLeg\":{\"CarrierIds\":[870],\"OriginId\":81727,\"DestinationId\":60987,\"DepartureDate\":\"2019-09-17T00:00:00\"},\"QuoteDateTime\":\"2019-08-14T05:43:00\"},{\"QuoteId\":20,\"MinPrice\":112.0,\"Direct\":true,\"OutboundLeg\":{\"CarrierIds\":[870],\"OriginId\":81727,\"DestinationId\":60987,\"DepartureDate\":\"2019-09-18T00:00:00\"},\"QuoteDateTime\":\"2019-08-14T03:58:00\"},{\"QuoteId\":21,\"MinPrice\":112.0,\"Direct\":true,\"OutboundLeg\":{\"CarrierIds\":[870],\"OriginId\":81727,\"DestinationId\":60987,\"DepartureDate\":\"2019-09-20T00:00:00\"},\"QuoteDateTime\":\"2019-08-14T02:28:00\"},{\"QuoteId\":22,\"MinPrice\":112.0,\"Direct\":true,\"OutboundLeg\":{\"CarrierIds\":[870],\"OriginId\":81727,\"DestinationId\":60987,\"DepartureDate\":\"2019-09-21T00:00:00\"},\"QuoteDateTime\":\"2019-08-14T04:49:00\"},{\"QuoteId\":23,\"MinPrice\":202.0,\"Direct\":false,\"OutboundLeg\":{\"CarrierIds\":[851],\"OriginId\":81727,\"DestinationId\":60987,\"DepartureDate\":\"2019-09-22T00:00:00\"},\"QuoteDateTime\":\"2019-08-21T15:22:00\"},{\"QuoteId\":24,\"MinPrice\":209.0,\"Direct\":true,\"OutboundLeg\":{\"CarrierIds\":[851],\"OriginId\":81727,\"DestinationId\":60987,\"DepartureDate\":\"2019-09-22T00:00:00\"},\"QuoteDateTime\":\"2019-08-21T15:22:00\"},{\"QuoteId\":25,\"MinPrice\":128.0,\"Direct\":false,\"OutboundLeg\":{\"CarrierIds\":[833],\"OriginId\":81727,\"DestinationId\":60987,\"DepartureDate\":\"2019-09-23T00:00:00\"},\"QuoteDateTime\":\"2019-08-21T15:34:00\"},{\"QuoteId\":26,\"MinPrice\":141.0,\"Direct\":true,\"OutboundLeg\":{\"CarrierIds\":[870],\"OriginId\":81727,\"DestinationId\":60987,\"DepartureDate\":\"2019-09-23T00:00:00\"},\"QuoteDateTime\":\"2019-08-14T02:29:00\"},{\"QuoteId\":27,\"MinPrice\":112.0,\"Direct\":true,\"OutboundLeg\":{\"CarrierIds\":[870],\"OriginId\":81727,\"DestinationId\":60987,\"DepartureDate\":\"2019-09-24T00:00:00\"},\"QuoteDateTime\":\"2019-08-14T05:38:00\"},{\"QuoteId\":28,\"MinPrice\":116.0,\"Direct\":true,\"OutboundLeg\":{\"CarrierIds\":[851],\"OriginId\":81727,\"DestinationId\":60987,\"DepartureDate\":\"2019-09-25T00:00:00\"},\"QuoteDateTime\":\"2019-08-21T18:32:00\"},{\"QuoteId\":29,\"MinPrice\":141.0,\"Direct\":true,\"OutboundLeg\":{\"CarrierIds\":[870],\"OriginId\":81727,\"DestinationId\":60987,\"DepartureDate\":\"2019-09-26T00:00:00\"},\"QuoteDateTime\":\"2019-08-14T01:48:00\"},{\"QuoteId\":30,\"MinPrice\":119.0,\"Direct\":true,\"OutboundLeg\":{\"CarrierIds\":[851],\"OriginId\":81727,\"DestinationId\":60987,\"DepartureDate\":\"2019-09-27T00:00:00\"},\"QuoteDateTime\":\"2019-08-21T15:47:00\"},{\"QuoteId\":31,\"MinPrice\":117.0,\"Direct\":true,\"OutboundLeg\":{\"CarrierIds\":[851],\"OriginId\":81727,\"DestinationId\":60987,\"DepartureDate\":\"2019-09-28T00:00:00\"},\"QuoteDateTime\":\"2019-08-21T05:07:00\"},{\"QuoteId\":32,\"MinPrice\":150.0,\"Direct\":true,\"OutboundLeg\":{\"CarrierIds\":[870],\"OriginId\":81727,\"DestinationId\":60987,\"DepartureDate\":\"2019-09-29T00:00:00\"},\"QuoteDateTime\":\"2019-08-14T05:59:00\"},{\"QuoteId\":33,\"MinPrice\":149.0,\"Direct\":true,\"OutboundLeg\":{\"CarrierIds\":[870],\"OriginId\":81727,\"DestinationId\":60987,\"DepartureDate\":\"2019-09-30T00:00:00\"},\"QuoteDateTime\":\"2019-08-21T14:41:00\"}],\"Places\":[{\"PlaceId\":60987,\"IataCode\":\"JFK\",\"Name\":\"New York John F. Kennedy\",\"Type\":\"Station\",\"SkyscannerCode\":\"JFK\",\"CityName\":\"New York\",\"CityId\":\"NYCA\",\"CountryName\":\"United States\"},{\"PlaceId\":81727,\"IataCode\":\"SFO\",\"Name\":\"San Francisco International\",\"Type\":\"Station\",\"SkyscannerCode\":\"SFO\",\"CityName\":\"San Francisco\",\"CityId\":\"SFOA\",\"CountryName\":\"United States\"}],\"Carriers\":[{\"CarrierId\":833,\"Name\":\"American Airlines\"},{\"CarrierId\":851,\"Name\":\"Alaska Airlines\"},{\"CarrierId\":870,\"Name\":\"jetBlue\"},{\"CarrierId\":988,\"Name\":\"Delta\"}],\"Currencies\":[{\"Code\":\"USD\",\"Symbol\":\"$\",\"ThousandsSeparator\":\",\",\"DecimalSeparator\":\".\",\"SymbolOnLeft\":true,\"SpaceBetweenAmountAndSymbol\":false,\"RoundingCoefficient\":0,\"DecimalDigits\":2}]}'"
      ]
     },
     "execution_count": 2,
     "metadata": {},
     "output_type": "execute_result"
    }
   ],
   "source": [
    "test_route = SkyScan.browse_routes('SFO-sky','JFK-sky', sk.key, '2019-09-28')\n",
    "test_route.text"
   ]
  },
  {
   "cell_type": "code",
   "execution_count": 5,
   "metadata": {},
   "outputs": [
    {
     "data": {
      "text/plain": [
       "'{\"Dates\":{\"OutboundDates\":[{\"PartialDate\":\"2019-08\",\"QuoteIds\":[1,2],\"Price\":71.0,\"QuoteDateTime\":\"2019-08-21T17:41:00\"},{\"PartialDate\":\"2019-09\",\"QuoteIds\":[3,4],\"Price\":69.0,\"QuoteDateTime\":\"2019-08-21T17:43:00\"},{\"PartialDate\":\"2019-10\",\"QuoteIds\":[5,6],\"Price\":69.0,\"QuoteDateTime\":\"2019-08-21T15:29:00\"},{\"PartialDate\":\"2019-11\",\"QuoteIds\":[7,8],\"Price\":69.0,\"QuoteDateTime\":\"2019-08-14T01:34:00\"},{\"PartialDate\":\"2019-12\",\"QuoteIds\":[9,10],\"Price\":111.0,\"QuoteDateTime\":\"2019-08-13T22:23:00\"},{\"PartialDate\":\"2020-01\",\"QuoteIds\":[11],\"Price\":125.0,\"QuoteDateTime\":\"2019-08-14T17:43:00\"},{\"PartialDate\":\"2020-02\",\"QuoteIds\":[12],\"Price\":125.0,\"QuoteDateTime\":\"2019-08-14T05:06:00\"},{\"PartialDate\":\"2020-03\",\"QuoteIds\":[13],\"Price\":128.0,\"QuoteDateTime\":\"2019-08-15T17:58:00\"},{\"PartialDate\":\"2020-04\",\"QuoteIds\":[14],\"Price\":129.0,\"QuoteDateTime\":\"2019-08-21T00:25:00\"},{\"PartialDate\":\"2020-05\",\"QuoteIds\":[15],\"Price\":129.0,\"QuoteDateTime\":\"2019-08-21T18:37:00\"},{\"PartialDate\":\"2020-06\",\"QuoteIds\":[16],\"Price\":129.0,\"QuoteDateTime\":\"2019-08-18T18:35:00\"},{\"PartialDate\":\"2020-07\",\"QuoteIds\":[17],\"Price\":139.0,\"QuoteDateTime\":\"2019-08-20T19:30:00\"}]},\"Quotes\":[{\"QuoteId\":1,\"MinPrice\":71.0,\"Direct\":false,\"OutboundLeg\":{\"CarrierIds\":[1467],\"OriginId\":50290,\"DestinationId\":65368,\"DepartureDate\":\"2019-08-26T00:00:00\"},\"QuoteDateTime\":\"2019-08-21T17:47:00\"},{\"QuoteId\":2,\"MinPrice\":236.0,\"Direct\":true,\"OutboundLeg\":{\"CarrierIds\":[851],\"OriginId\":50290,\"DestinationId\":65368,\"DepartureDate\":\"2019-08-29T00:00:00\"},\"QuoteDateTime\":\"2019-08-21T17:41:00\"},{\"QuoteId\":3,\"MinPrice\":116.0,\"Direct\":true,\"OutboundLeg\":{\"CarrierIds\":[851],\"OriginId\":50290,\"DestinationId\":65368,\"DepartureDate\":\"2019-09-11T00:00:00\"},\"QuoteDateTime\":\"2019-08-21T18:40:00\"},{\"QuoteId\":4,\"MinPrice\":69.0,\"Direct\":false,\"OutboundLeg\":{\"CarrierIds\":[1467],\"OriginId\":50290,\"DestinationId\":65368,\"DepartureDate\":\"2019-09-18T00:00:00\"},\"QuoteDateTime\":\"2019-08-21T17:43:00\"},{\"QuoteId\":5,\"MinPrice\":69.0,\"Direct\":false,\"OutboundLeg\":{\"CarrierIds\":[1467],\"OriginId\":50290,\"DestinationId\":65368,\"DepartureDate\":\"2019-10-02T00:00:00\"},\"QuoteDateTime\":\"2019-08-21T15:29:00\"},{\"QuoteId\":6,\"MinPrice\":116.0,\"Direct\":true,\"OutboundLeg\":{\"CarrierIds\":[851],\"OriginId\":50290,\"DestinationId\":65368,\"DepartureDate\":\"2019-10-29T00:00:00\"},\"QuoteDateTime\":\"2019-08-21T18:44:00\"},{\"QuoteId\":7,\"MinPrice\":69.0,\"Direct\":false,\"OutboundLeg\":{\"CarrierIds\":[1467],\"OriginId\":50290,\"DestinationId\":65368,\"DepartureDate\":\"2019-11-06T00:00:00\"},\"QuoteDateTime\":\"2019-08-21T18:12:00\"},{\"QuoteId\":8,\"MinPrice\":115.0,\"Direct\":true,\"OutboundLeg\":{\"CarrierIds\":[851],\"OriginId\":50290,\"DestinationId\":65368,\"DepartureDate\":\"2019-11-16T00:00:00\"},\"QuoteDateTime\":\"2019-08-14T01:34:00\"},{\"QuoteId\":9,\"MinPrice\":118.0,\"Direct\":true,\"OutboundLeg\":{\"CarrierIds\":[851],\"OriginId\":50290,\"DestinationId\":65368,\"DepartureDate\":\"2019-12-07T00:00:00\"},\"QuoteDateTime\":\"2019-08-13T22:23:00\"},{\"QuoteId\":10,\"MinPrice\":111.0,\"Direct\":false,\"OutboundLeg\":{\"CarrierIds\":[1467],\"OriginId\":50290,\"DestinationId\":65368,\"DepartureDate\":\"2019-12-11T00:00:00\"},\"QuoteDateTime\":\"2019-08-21T17:59:00\"},{\"QuoteId\":11,\"MinPrice\":125.0,\"Direct\":true,\"OutboundLeg\":{\"CarrierIds\":[851],\"OriginId\":50290,\"DestinationId\":65368,\"DepartureDate\":\"2020-01-21T00:00:00\"},\"QuoteDateTime\":\"2019-08-14T17:43:00\"},{\"QuoteId\":12,\"MinPrice\":125.0,\"Direct\":true,\"OutboundLeg\":{\"CarrierIds\":[851],\"OriginId\":50290,\"DestinationId\":65368,\"DepartureDate\":\"2020-02-08T00:00:00\"},\"QuoteDateTime\":\"2019-08-14T05:06:00\"},{\"QuoteId\":13,\"MinPrice\":128.0,\"Direct\":true,\"OutboundLeg\":{\"CarrierIds\":[851],\"OriginId\":50290,\"DestinationId\":65368,\"DepartureDate\":\"2020-03-19T00:00:00\"},\"QuoteDateTime\":\"2019-08-15T17:58:00\"},{\"QuoteId\":14,\"MinPrice\":129.0,\"Direct\":true,\"OutboundLeg\":{\"CarrierIds\":[851],\"OriginId\":50290,\"DestinationId\":65368,\"DepartureDate\":\"2020-04-23T00:00:00\"},\"QuoteDateTime\":\"2019-08-21T00:25:00\"},{\"QuoteId\":15,\"MinPrice\":129.0,\"Direct\":true,\"OutboundLeg\":{\"CarrierIds\":[851],\"OriginId\":50290,\"DestinationId\":65368,\"DepartureDate\":\"2020-05-24T00:00:00\"},\"QuoteDateTime\":\"2019-08-21T18:37:00\"},{\"QuoteId\":16,\"MinPrice\":129.0,\"Direct\":true,\"OutboundLeg\":{\"CarrierIds\":[851],\"OriginId\":50290,\"DestinationId\":65368,\"DepartureDate\":\"2020-06-13T00:00:00\"},\"QuoteDateTime\":\"2019-08-18T18:35:00\"},{\"QuoteId\":17,\"MinPrice\":139.0,\"Direct\":false,\"OutboundLeg\":{\"CarrierIds\":[833],\"OriginId\":50290,\"DestinationId\":65368,\"DepartureDate\":\"2020-07-03T00:00:00\"},\"QuoteDateTime\":\"2019-08-20T19:30:00\"}],\"Places\":[{\"PlaceId\":50290,\"IataCode\":\"EWR\",\"Name\":\"New York Newark\",\"Type\":\"Station\",\"SkyscannerCode\":\"EWR\",\"CityName\":\"New York\",\"CityId\":\"NYCA\",\"CountryName\":\"United States\"},{\"PlaceId\":65368,\"IataCode\":\"LAX\",\"Name\":\"Los Angeles International\",\"Type\":\"Station\",\"SkyscannerCode\":\"LAX\",\"CityName\":\"Los Angeles\",\"CityId\":\"LAXA\",\"CountryName\":\"United States\"}],\"Carriers\":[{\"CarrierId\":833,\"Name\":\"American Airlines\"},{\"CarrierId\":851,\"Name\":\"Alaska Airlines\"},{\"CarrierId\":1467,\"Name\":\"Spirit Airlines\"}],\"Currencies\":[{\"Code\":\"USD\",\"Symbol\":\"$\",\"ThousandsSeparator\":\",\",\"DecimalSeparator\":\".\",\"SymbolOnLeft\":true,\"SpaceBetweenAmountAndSymbol\":false,\"RoundingCoefficient\":0,\"DecimalDigits\":2}]}'"
      ]
     },
     "execution_count": 5,
     "metadata": {},
     "output_type": "execute_result"
    }
   ],
   "source": [
    "test_dates = SkyScan.browse_dates('EWR-sky','LAX-sky', sk.key, 'anytime')\n",
    "test_dates.text"
   ]
  },
  {
   "cell_type": "code",
   "execution_count": 82,
   "metadata": {},
   "outputs": [
    {
     "data": {
      "text/plain": [
       "dict_keys(['Dates', 'Quotes', 'Places', 'Carriers', 'Currencies'])"
      ]
     },
     "execution_count": 82,
     "metadata": {},
     "output_type": "execute_result"
    }
   ],
   "source": [
    "t = json.loads(test_dates.text)\n",
    "t.keys()"
   ]
  },
  {
   "cell_type": "code",
   "execution_count": 72,
   "metadata": {},
   "outputs": [
    {
     "data": {
      "text/html": [
       "<div>\n",
       "<style scoped>\n",
       "    .dataframe tbody tr th:only-of-type {\n",
       "        vertical-align: middle;\n",
       "    }\n",
       "\n",
       "    .dataframe tbody tr th {\n",
       "        vertical-align: top;\n",
       "    }\n",
       "\n",
       "    .dataframe thead th {\n",
       "        text-align: right;\n",
       "    }\n",
       "</style>\n",
       "<table border=\"1\" class=\"dataframe\">\n",
       "  <thead>\n",
       "    <tr style=\"text-align: right;\">\n",
       "      <th></th>\n",
       "      <th>CarrierId</th>\n",
       "      <th>Name</th>\n",
       "    </tr>\n",
       "  </thead>\n",
       "  <tbody>\n",
       "    <tr>\n",
       "      <th>0</th>\n",
       "      <td>833</td>\n",
       "      <td>American Airlines</td>\n",
       "    </tr>\n",
       "    <tr>\n",
       "      <th>1</th>\n",
       "      <td>851</td>\n",
       "      <td>Alaska Airlines</td>\n",
       "    </tr>\n",
       "    <tr>\n",
       "      <th>2</th>\n",
       "      <td>1467</td>\n",
       "      <td>Spirit Airlines</td>\n",
       "    </tr>\n",
       "  </tbody>\n",
       "</table>\n",
       "</div>"
      ],
      "text/plain": [
       "   CarrierId               Name\n",
       "0        833  American Airlines\n",
       "1        851    Alaska Airlines\n",
       "2       1467    Spirit Airlines"
      ]
     },
     "execution_count": 72,
     "metadata": {},
     "output_type": "execute_result"
    }
   ],
   "source": [
    "json_normalize(t,record_path='Carriers')"
   ]
  },
  {
   "cell_type": "code",
   "execution_count": 73,
   "metadata": {},
   "outputs": [
    {
     "data": {
      "text/html": [
       "<div>\n",
       "<style scoped>\n",
       "    .dataframe tbody tr th:only-of-type {\n",
       "        vertical-align: middle;\n",
       "    }\n",
       "\n",
       "    .dataframe tbody tr th {\n",
       "        vertical-align: top;\n",
       "    }\n",
       "\n",
       "    .dataframe thead th {\n",
       "        text-align: right;\n",
       "    }\n",
       "</style>\n",
       "<table border=\"1\" class=\"dataframe\">\n",
       "  <thead>\n",
       "    <tr style=\"text-align: right;\">\n",
       "      <th></th>\n",
       "      <th>Code</th>\n",
       "      <th>DecimalDigits</th>\n",
       "      <th>DecimalSeparator</th>\n",
       "      <th>RoundingCoefficient</th>\n",
       "      <th>SpaceBetweenAmountAndSymbol</th>\n",
       "      <th>Symbol</th>\n",
       "      <th>SymbolOnLeft</th>\n",
       "      <th>ThousandsSeparator</th>\n",
       "    </tr>\n",
       "  </thead>\n",
       "  <tbody>\n",
       "    <tr>\n",
       "      <th>0</th>\n",
       "      <td>USD</td>\n",
       "      <td>2</td>\n",
       "      <td>.</td>\n",
       "      <td>0</td>\n",
       "      <td>False</td>\n",
       "      <td>$</td>\n",
       "      <td>True</td>\n",
       "      <td>,</td>\n",
       "    </tr>\n",
       "  </tbody>\n",
       "</table>\n",
       "</div>"
      ],
      "text/plain": [
       "  Code  DecimalDigits DecimalSeparator  RoundingCoefficient  \\\n",
       "0  USD              2                .                    0   \n",
       "\n",
       "   SpaceBetweenAmountAndSymbol Symbol  SymbolOnLeft ThousandsSeparator  \n",
       "0                        False      $          True                  ,  "
      ]
     },
     "execution_count": 73,
     "metadata": {},
     "output_type": "execute_result"
    }
   ],
   "source": [
    "json_normalize(t,record_path='Currencies')"
   ]
  },
  {
   "cell_type": "code",
   "execution_count": 76,
   "metadata": {},
   "outputs": [
    {
     "data": {
      "text/html": [
       "<div>\n",
       "<style scoped>\n",
       "    .dataframe tbody tr th:only-of-type {\n",
       "        vertical-align: middle;\n",
       "    }\n",
       "\n",
       "    .dataframe tbody tr th {\n",
       "        vertical-align: top;\n",
       "    }\n",
       "\n",
       "    .dataframe thead th {\n",
       "        text-align: right;\n",
       "    }\n",
       "</style>\n",
       "<table border=\"1\" class=\"dataframe\">\n",
       "  <thead>\n",
       "    <tr style=\"text-align: right;\">\n",
       "      <th></th>\n",
       "      <th>PartialDate</th>\n",
       "      <th>Price</th>\n",
       "      <th>QuoteDateTime</th>\n",
       "      <th>QuoteIds</th>\n",
       "    </tr>\n",
       "  </thead>\n",
       "  <tbody>\n",
       "    <tr>\n",
       "      <th>0</th>\n",
       "      <td>2019-08</td>\n",
       "      <td>71.0</td>\n",
       "      <td>2019-08-21T17:41:00</td>\n",
       "      <td>[1, 2]</td>\n",
       "    </tr>\n",
       "    <tr>\n",
       "      <th>1</th>\n",
       "      <td>2019-09</td>\n",
       "      <td>69.0</td>\n",
       "      <td>2019-08-21T17:43:00</td>\n",
       "      <td>[3, 4]</td>\n",
       "    </tr>\n",
       "    <tr>\n",
       "      <th>2</th>\n",
       "      <td>2019-10</td>\n",
       "      <td>69.0</td>\n",
       "      <td>2019-08-21T15:29:00</td>\n",
       "      <td>[5, 6]</td>\n",
       "    </tr>\n",
       "    <tr>\n",
       "      <th>3</th>\n",
       "      <td>2019-11</td>\n",
       "      <td>69.0</td>\n",
       "      <td>2019-08-14T01:34:00</td>\n",
       "      <td>[7, 8]</td>\n",
       "    </tr>\n",
       "    <tr>\n",
       "      <th>4</th>\n",
       "      <td>2019-12</td>\n",
       "      <td>111.0</td>\n",
       "      <td>2019-08-13T22:23:00</td>\n",
       "      <td>[9, 10]</td>\n",
       "    </tr>\n",
       "    <tr>\n",
       "      <th>5</th>\n",
       "      <td>2020-01</td>\n",
       "      <td>125.0</td>\n",
       "      <td>2019-08-14T17:43:00</td>\n",
       "      <td>[11]</td>\n",
       "    </tr>\n",
       "    <tr>\n",
       "      <th>6</th>\n",
       "      <td>2020-02</td>\n",
       "      <td>125.0</td>\n",
       "      <td>2019-08-14T05:06:00</td>\n",
       "      <td>[12]</td>\n",
       "    </tr>\n",
       "    <tr>\n",
       "      <th>7</th>\n",
       "      <td>2020-03</td>\n",
       "      <td>128.0</td>\n",
       "      <td>2019-08-15T17:58:00</td>\n",
       "      <td>[13]</td>\n",
       "    </tr>\n",
       "    <tr>\n",
       "      <th>8</th>\n",
       "      <td>2020-04</td>\n",
       "      <td>129.0</td>\n",
       "      <td>2019-08-21T00:25:00</td>\n",
       "      <td>[14]</td>\n",
       "    </tr>\n",
       "    <tr>\n",
       "      <th>9</th>\n",
       "      <td>2020-05</td>\n",
       "      <td>129.0</td>\n",
       "      <td>2019-08-21T18:37:00</td>\n",
       "      <td>[15]</td>\n",
       "    </tr>\n",
       "    <tr>\n",
       "      <th>10</th>\n",
       "      <td>2020-06</td>\n",
       "      <td>129.0</td>\n",
       "      <td>2019-08-18T18:35:00</td>\n",
       "      <td>[16]</td>\n",
       "    </tr>\n",
       "    <tr>\n",
       "      <th>11</th>\n",
       "      <td>2020-07</td>\n",
       "      <td>139.0</td>\n",
       "      <td>2019-08-20T19:30:00</td>\n",
       "      <td>[17]</td>\n",
       "    </tr>\n",
       "  </tbody>\n",
       "</table>\n",
       "</div>"
      ],
      "text/plain": [
       "   PartialDate  Price        QuoteDateTime QuoteIds\n",
       "0      2019-08   71.0  2019-08-21T17:41:00   [1, 2]\n",
       "1      2019-09   69.0  2019-08-21T17:43:00   [3, 4]\n",
       "2      2019-10   69.0  2019-08-21T15:29:00   [5, 6]\n",
       "3      2019-11   69.0  2019-08-14T01:34:00   [7, 8]\n",
       "4      2019-12  111.0  2019-08-13T22:23:00  [9, 10]\n",
       "5      2020-01  125.0  2019-08-14T17:43:00     [11]\n",
       "6      2020-02  125.0  2019-08-14T05:06:00     [12]\n",
       "7      2020-03  128.0  2019-08-15T17:58:00     [13]\n",
       "8      2020-04  129.0  2019-08-21T00:25:00     [14]\n",
       "9      2020-05  129.0  2019-08-21T18:37:00     [15]\n",
       "10     2020-06  129.0  2019-08-18T18:35:00     [16]\n",
       "11     2020-07  139.0  2019-08-20T19:30:00     [17]"
      ]
     },
     "execution_count": 76,
     "metadata": {},
     "output_type": "execute_result"
    }
   ],
   "source": [
    "json_normalize(t['Dates'],record_path='OutboundDates')"
   ]
  },
  {
   "cell_type": "code",
   "execution_count": 77,
   "metadata": {},
   "outputs": [
    {
     "data": {
      "text/html": [
       "<div>\n",
       "<style scoped>\n",
       "    .dataframe tbody tr th:only-of-type {\n",
       "        vertical-align: middle;\n",
       "    }\n",
       "\n",
       "    .dataframe tbody tr th {\n",
       "        vertical-align: top;\n",
       "    }\n",
       "\n",
       "    .dataframe thead th {\n",
       "        text-align: right;\n",
       "    }\n",
       "</style>\n",
       "<table border=\"1\" class=\"dataframe\">\n",
       "  <thead>\n",
       "    <tr style=\"text-align: right;\">\n",
       "      <th></th>\n",
       "      <th>CityId</th>\n",
       "      <th>CityName</th>\n",
       "      <th>CountryName</th>\n",
       "      <th>IataCode</th>\n",
       "      <th>Name</th>\n",
       "      <th>PlaceId</th>\n",
       "      <th>SkyscannerCode</th>\n",
       "      <th>Type</th>\n",
       "    </tr>\n",
       "  </thead>\n",
       "  <tbody>\n",
       "    <tr>\n",
       "      <th>0</th>\n",
       "      <td>NYCA</td>\n",
       "      <td>New York</td>\n",
       "      <td>United States</td>\n",
       "      <td>EWR</td>\n",
       "      <td>New York Newark</td>\n",
       "      <td>50290</td>\n",
       "      <td>EWR</td>\n",
       "      <td>Station</td>\n",
       "    </tr>\n",
       "    <tr>\n",
       "      <th>1</th>\n",
       "      <td>LAXA</td>\n",
       "      <td>Los Angeles</td>\n",
       "      <td>United States</td>\n",
       "      <td>LAX</td>\n",
       "      <td>Los Angeles International</td>\n",
       "      <td>65368</td>\n",
       "      <td>LAX</td>\n",
       "      <td>Station</td>\n",
       "    </tr>\n",
       "  </tbody>\n",
       "</table>\n",
       "</div>"
      ],
      "text/plain": [
       "  CityId     CityName    CountryName IataCode                       Name  \\\n",
       "0   NYCA     New York  United States      EWR            New York Newark   \n",
       "1   LAXA  Los Angeles  United States      LAX  Los Angeles International   \n",
       "\n",
       "   PlaceId SkyscannerCode     Type  \n",
       "0    50290            EWR  Station  \n",
       "1    65368            LAX  Station  "
      ]
     },
     "execution_count": 77,
     "metadata": {},
     "output_type": "execute_result"
    }
   ],
   "source": [
    "json_normalize(t['Places'])"
   ]
  },
  {
   "cell_type": "code",
   "execution_count": 87,
   "metadata": {},
   "outputs": [
    {
     "data": {
      "text/plain": [
       "list"
      ]
     },
     "execution_count": 87,
     "metadata": {},
     "output_type": "execute_result"
    }
   ],
   "source": [
    "type(t['Quotes'])"
   ]
  },
  {
   "cell_type": "code",
   "execution_count": 86,
   "metadata": {},
   "outputs": [
    {
     "data": {
      "text/html": [
       "<div>\n",
       "<style scoped>\n",
       "    .dataframe tbody tr th:only-of-type {\n",
       "        vertical-align: middle;\n",
       "    }\n",
       "\n",
       "    .dataframe tbody tr th {\n",
       "        vertical-align: top;\n",
       "    }\n",
       "\n",
       "    .dataframe thead th {\n",
       "        text-align: right;\n",
       "    }\n",
       "</style>\n",
       "<table border=\"1\" class=\"dataframe\">\n",
       "  <thead>\n",
       "    <tr style=\"text-align: right;\">\n",
       "      <th></th>\n",
       "      <th>PartialDate</th>\n",
       "      <th>Price</th>\n",
       "      <th>QuoteDateTime</th>\n",
       "      <th>QuoteIds</th>\n",
       "    </tr>\n",
       "  </thead>\n",
       "  <tbody>\n",
       "    <tr>\n",
       "      <th>0</th>\n",
       "      <td>2019-08</td>\n",
       "      <td>71.0</td>\n",
       "      <td>2019-08-21T17:41:00</td>\n",
       "      <td>[1, 2]</td>\n",
       "    </tr>\n",
       "    <tr>\n",
       "      <th>1</th>\n",
       "      <td>2019-09</td>\n",
       "      <td>69.0</td>\n",
       "      <td>2019-08-21T17:43:00</td>\n",
       "      <td>[3, 4]</td>\n",
       "    </tr>\n",
       "    <tr>\n",
       "      <th>2</th>\n",
       "      <td>2019-10</td>\n",
       "      <td>69.0</td>\n",
       "      <td>2019-08-21T15:29:00</td>\n",
       "      <td>[5, 6]</td>\n",
       "    </tr>\n",
       "    <tr>\n",
       "      <th>3</th>\n",
       "      <td>2019-11</td>\n",
       "      <td>69.0</td>\n",
       "      <td>2019-08-14T01:34:00</td>\n",
       "      <td>[7, 8]</td>\n",
       "    </tr>\n",
       "    <tr>\n",
       "      <th>4</th>\n",
       "      <td>2019-12</td>\n",
       "      <td>111.0</td>\n",
       "      <td>2019-08-13T22:23:00</td>\n",
       "      <td>[9, 10]</td>\n",
       "    </tr>\n",
       "    <tr>\n",
       "      <th>5</th>\n",
       "      <td>2020-01</td>\n",
       "      <td>125.0</td>\n",
       "      <td>2019-08-14T17:43:00</td>\n",
       "      <td>[11]</td>\n",
       "    </tr>\n",
       "    <tr>\n",
       "      <th>6</th>\n",
       "      <td>2020-02</td>\n",
       "      <td>125.0</td>\n",
       "      <td>2019-08-14T05:06:00</td>\n",
       "      <td>[12]</td>\n",
       "    </tr>\n",
       "    <tr>\n",
       "      <th>7</th>\n",
       "      <td>2020-03</td>\n",
       "      <td>128.0</td>\n",
       "      <td>2019-08-15T17:58:00</td>\n",
       "      <td>[13]</td>\n",
       "    </tr>\n",
       "    <tr>\n",
       "      <th>8</th>\n",
       "      <td>2020-04</td>\n",
       "      <td>129.0</td>\n",
       "      <td>2019-08-21T00:25:00</td>\n",
       "      <td>[14]</td>\n",
       "    </tr>\n",
       "    <tr>\n",
       "      <th>9</th>\n",
       "      <td>2020-05</td>\n",
       "      <td>129.0</td>\n",
       "      <td>2019-08-21T18:37:00</td>\n",
       "      <td>[15]</td>\n",
       "    </tr>\n",
       "    <tr>\n",
       "      <th>10</th>\n",
       "      <td>2020-06</td>\n",
       "      <td>129.0</td>\n",
       "      <td>2019-08-18T18:35:00</td>\n",
       "      <td>[16]</td>\n",
       "    </tr>\n",
       "    <tr>\n",
       "      <th>11</th>\n",
       "      <td>2020-07</td>\n",
       "      <td>139.0</td>\n",
       "      <td>2019-08-20T19:30:00</td>\n",
       "      <td>[17]</td>\n",
       "    </tr>\n",
       "  </tbody>\n",
       "</table>\n",
       "</div>"
      ],
      "text/plain": [
       "   PartialDate  Price        QuoteDateTime QuoteIds\n",
       "0      2019-08   71.0  2019-08-21T17:41:00   [1, 2]\n",
       "1      2019-09   69.0  2019-08-21T17:43:00   [3, 4]\n",
       "2      2019-10   69.0  2019-08-21T15:29:00   [5, 6]\n",
       "3      2019-11   69.0  2019-08-14T01:34:00   [7, 8]\n",
       "4      2019-12  111.0  2019-08-13T22:23:00  [9, 10]\n",
       "5      2020-01  125.0  2019-08-14T17:43:00     [11]\n",
       "6      2020-02  125.0  2019-08-14T05:06:00     [12]\n",
       "7      2020-03  128.0  2019-08-15T17:58:00     [13]\n",
       "8      2020-04  129.0  2019-08-21T00:25:00     [14]\n",
       "9      2020-05  129.0  2019-08-21T18:37:00     [15]\n",
       "10     2020-06  129.0  2019-08-18T18:35:00     [16]\n",
       "11     2020-07  139.0  2019-08-20T19:30:00     [17]"
      ]
     },
     "execution_count": 86,
     "metadata": {},
     "output_type": "execute_result"
    }
   ],
   "source": [
    "pd.DataFrame(t['Dates']['OutboundDates'])"
   ]
  },
  {
   "cell_type": "code",
   "execution_count": 53,
   "metadata": {},
   "outputs": [
    {
     "data": {
      "text/plain": [
       "dict_keys(['QuoteId', 'MinPrice', 'Direct', 'OutboundLeg', 'QuoteDateTime'])"
      ]
     },
     "execution_count": 53,
     "metadata": {},
     "output_type": "execute_result"
    }
   ],
   "source": [
    "t['Quotes'][0].keys()"
   ]
  },
  {
   "cell_type": "code",
   "execution_count": null,
   "metadata": {},
   "outputs": [],
   "source": []
  }
 ],
 "metadata": {
  "kernelspec": {
   "display_name": "Python 3",
   "language": "python",
   "name": "python3"
  },
  "language_info": {
   "codemirror_mode": {
    "name": "ipython",
    "version": 3
   },
   "file_extension": ".py",
   "mimetype": "text/x-python",
   "name": "python",
   "nbconvert_exporter": "python",
   "pygments_lexer": "ipython3",
   "version": "3.7.3"
  }
 },
 "nbformat": 4,
 "nbformat_minor": 2
}
