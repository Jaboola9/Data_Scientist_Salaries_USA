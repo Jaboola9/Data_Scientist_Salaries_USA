{
 "cells": [
  {
   "cell_type": "code",
   "execution_count": 1,
   "metadata": {},
   "outputs": [],
   "source": [
    "# Use the endpoint POST Create session to create a query session for flights.\n",
    "# Required: originPlace: SFO-sky\n",
    "#           destinationPlace: \n",
    "#           outboundDate:\n",
    "    \n",
    "#     Get back the session ID in the Location header from POST Create session.\n",
    "#     Poll the results using the endpoint GET Poll session results."
   ]
  },
  {
   "cell_type": "code",
   "execution_count": null,
   "metadata": {},
   "outputs": [],
   "source": [
    "import sky as sk\n",
    "import pandas as pd\n",
    "import requests\n",
    "\n",
    "sky_api_host = 'https://skyscanner-skyscanner-flight-search-v1.p.rapidapi.com/'"
   ]
  },
  {
   "cell_type": "code",
   "execution_count": 16,
   "metadata": {},
   "outputs": [
    {
     "name": "stdout",
     "output_type": "stream",
     "text": [
      "\n"
     ]
    }
   ],
   "source": [
    "# POST to initiate Session request\n",
    "\n",
    "post_url = sky_api_host + \"/apiservices/pricing/v1.0\"\n",
    "\n",
    "payload = \"inboundDate=&cabinClass=&children=&infants=&country=&currency=&locale=&originPlace=&destinationPlace=&outboundDate=&adults=\"\n",
    "headers = {\n",
    "    'x-rapidapi-host': sky_api_host,\n",
    "    'x-rapidapi-key': sk.sky_key,\n",
    "    'content-type': \"application/x-www-form-urlencoded\"\n",
    "    }\n",
    "\n",
    "response = requests.request(\"POST\", post_url, data=payload, headers=headers)\n",
    "\n",
    "print(response.text)"
   ]
  },
  {
   "cell_type": "code",
   "execution_count": null,
   "metadata": {},
   "outputs": [],
   "source": [
    "\n",
    "arguments = ''\n",
    "# url = \"https://skyscanner-skyscanner-flight-search-v1.p.rapidapi.com/apiservices/browsequotes/v1.0/US/USD/en-US/SFO-sky/JFK-sky/2019-09-01\"\n",
    "# querystring = {\"inboundpartialdate\":\"2019-12-01\"}\n",
    "\n",
    "headers = {\n",
    "    'x-rapidapi-host': sky_url,\n",
    "    'x-rapidapi-key': sky_key\n",
    "    }\n",
    "\n",
    "response = requests.request(\"GET\", url, headers=headers, params=querystring)\n",
    "\n",
    "print(response.text)"
   ]
  }
 ],
 "metadata": {
  "kernelspec": {
   "display_name": "Python 3",
   "language": "python",
   "name": "python3"
  },
  "language_info": {
   "codemirror_mode": {
    "name": "ipython",
    "version": 3
   },
   "file_extension": ".py",
   "mimetype": "text/x-python",
   "name": "python",
   "nbconvert_exporter": "python",
   "pygments_lexer": "ipython3",
   "version": "3.7.3"
  }
 },
 "nbformat": 4,
 "nbformat_minor": 2
}
