{
 "cells": [
  {
   "cell_type": "code",
   "execution_count": 1,
   "metadata": {},
   "outputs": [],
   "source": [
    "%load_ext autoreload\n",
    "%autoreload 2"
   ]
  },
  {
   "cell_type": "code",
   "execution_count": 2,
   "metadata": {},
   "outputs": [],
   "source": [
    "import SkyScan\n",
    "import sky as sk\n",
    "import pandas as pd\n",
    "import requests\n",
    "import json\n",
    "from pandas.io.json import json_normalize #package for flattening json in pandas df"
   ]
  },
  {
   "cell_type": "code",
   "execution_count": null,
   "metadata": {},
   "outputs": [],
   "source": [
    "# Use the endpoint POST Create session to create a query session for LIVE FLIGHT SEARCH\n",
    "# Required: originPlace: \n",
    "#           destinationPlace: \n",
    "#           outboundDate:\n",
    "    \n",
    "#     Get back the session ID in the Location header from POST Create session.\n",
    "#     Poll the results using the endpoint GET Poll session results."
   ]
  },
  {
   "cell_type": "code",
   "execution_count": null,
   "metadata": {},
   "outputs": [],
   "source": [
    "# POST to initiate LIVE FLIGHT SEARCH\n",
    "\n",
    "post_url = sky_api_host + \"apiservices/pricing/v1.0\"\n",
    "\n",
    "payload = \"inboundDate=&cabinClass=&children=&infants=&country=&currency=&locale=&originPlace=&destinationPlace=&outboundDate=&adults=\"\n",
    "headers = {\n",
    "    'x-rapidapi-host': sky_api_host,\n",
    "    'x-rapidapi-key': sk.sky_key,\n",
    "    'content-type': \"application/x-www-form-urlencoded\"\n",
    "    }\n",
    "\n",
    "response = requests.request(\"POST\", post_url, data=payload, headers=headers)"
   ]
  },
  {
   "cell_type": "code",
   "execution_count": 3,
   "metadata": {},
   "outputs": [
    {
     "data": {
      "text/plain": [
       "0    NYCA-sky\n",
       "1     JFK-sky\n",
       "2     EWR-sky\n",
       "3     LGA-sky\n",
       "4     SWF-sky\n",
       "5     DEL-sky\n",
       "6    MSYA-sky\n",
       "7     MSY-sky\n",
       "8     NEW-sky\n",
       "9     HVN-sky\n",
       "Name: PlaceId, dtype: object"
      ]
     },
     "execution_count": 3,
     "metadata": {},
     "output_type": "execute_result"
    }
   ],
   "source": [
    "# Find Location IDs based on string searches\n",
    "test_loc = SkyScan.get_locations('New',sk.key)\n",
    "test_loc['PlaceId'] # use these as inputs"
   ]
  },
  {
   "cell_type": "code",
   "execution_count": 125,
   "metadata": {},
   "outputs": [
    {
     "name": "stdout",
     "output_type": "stream",
     "text": [
      "dict_keys(['Quotes', 'Places', 'Carriers', 'Currencies'])\n"
     ]
    },
    {
     "data": {
      "text/plain": [
       "[list, list, list, list]"
      ]
     },
     "execution_count": 125,
     "metadata": {},
     "output_type": "execute_result"
    }
   ],
   "source": [
    "# BROWSE QUOTES\n",
    "test_quote = SkyScan.browse_quotes('SFO-sky','JFK-sky', sk.key, '2019-09-01')\n",
    "t_quote = json.loads(test_quote.text)\n",
    "print(t_quote.keys())\n",
    "[type(t_quote[key]) for key in t_quote.keys()]"
   ]
  },
  {
   "cell_type": "code",
   "execution_count": 88,
   "metadata": {},
   "outputs": [
    {
     "data": {
      "text/plain": [
       "0    [833]\n",
       "1    [870]\n",
       "Name: OutboundLeg.CarrierIds, dtype: object"
      ]
     },
     "execution_count": 88,
     "metadata": {},
     "output_type": "execute_result"
    }
   ],
   "source": [
    "json_normalize(t_quote['Quotes'], meta = 'OutboundLeg')['OutboundLeg.CarrierIds']"
   ]
  },
  {
   "cell_type": "code",
   "execution_count": 95,
   "metadata": {},
   "outputs": [
    {
     "name": "stdout",
     "output_type": "stream",
     "text": [
      "[833]\n",
      "[870]\n"
     ]
    },
    {
     "data": {
      "text/plain": [
       "[None, None]"
      ]
     },
     "execution_count": 95,
     "metadata": {},
     "output_type": "execute_result"
    }
   ],
   "source": [
    "[print(quote) for quote in quotes['OutboundLeg.CarrierIds']]"
   ]
  },
  {
   "cell_type": "code",
   "execution_count": 148,
   "metadata": {},
   "outputs": [
    {
     "data": {
      "text/html": [
       "<div>\n",
       "<style scoped>\n",
       "    .dataframe tbody tr th:only-of-type {\n",
       "        vertical-align: middle;\n",
       "    }\n",
       "\n",
       "    .dataframe tbody tr th {\n",
       "        vertical-align: top;\n",
       "    }\n",
       "\n",
       "    .dataframe thead th {\n",
       "        text-align: right;\n",
       "    }\n",
       "</style>\n",
       "<table border=\"1\" class=\"dataframe\">\n",
       "  <thead>\n",
       "    <tr style=\"text-align: right;\">\n",
       "      <th></th>\n",
       "      <th>Direct</th>\n",
       "      <th>MinPrice</th>\n",
       "      <th>OutboundLeg.CarrierIds</th>\n",
       "      <th>OutboundLeg.DepartureDate</th>\n",
       "      <th>OutboundLeg.DestinationId</th>\n",
       "      <th>OutboundLeg.OriginId</th>\n",
       "      <th>QuoteDateTime</th>\n",
       "      <th>QuoteId</th>\n",
       "      <th>CarrierNames</th>\n",
       "    </tr>\n",
       "  </thead>\n",
       "  <tbody>\n",
       "    <tr>\n",
       "      <th>0</th>\n",
       "      <td>False</td>\n",
       "      <td>261.0</td>\n",
       "      <td>[833]</td>\n",
       "      <td>2019-09-01T00:00:00</td>\n",
       "      <td>60987</td>\n",
       "      <td>81727</td>\n",
       "      <td>2019-08-21T23:43:00</td>\n",
       "      <td>1</td>\n",
       "      <td>American Airlines</td>\n",
       "    </tr>\n",
       "    <tr>\n",
       "      <th>1</th>\n",
       "      <td>True</td>\n",
       "      <td>305.0</td>\n",
       "      <td>[870]</td>\n",
       "      <td>2019-09-01T00:00:00</td>\n",
       "      <td>60987</td>\n",
       "      <td>81727</td>\n",
       "      <td>2019-08-14T02:55:00</td>\n",
       "      <td>2</td>\n",
       "      <td>jetBlue</td>\n",
       "    </tr>\n",
       "  </tbody>\n",
       "</table>\n",
       "</div>"
      ],
      "text/plain": [
       "   Direct  MinPrice OutboundLeg.CarrierIds OutboundLeg.DepartureDate  \\\n",
       "0   False     261.0                  [833]       2019-09-01T00:00:00   \n",
       "1    True     305.0                  [870]       2019-09-01T00:00:00   \n",
       "\n",
       "   OutboundLeg.DestinationId  OutboundLeg.OriginId        QuoteDateTime  \\\n",
       "0                      60987                 81727  2019-08-21T23:43:00   \n",
       "1                      60987                 81727  2019-08-14T02:55:00   \n",
       "\n",
       "   QuoteId       CarrierNames  \n",
       "0        1  American Airlines  \n",
       "1        2            jetBlue  "
      ]
     },
     "execution_count": 148,
     "metadata": {},
     "output_type": "execute_result"
    }
   ],
   "source": [
    "quotes = SkyScan.parse_quotes(test_quote)  \n",
    "quotes"
   ]
  },
  {
   "cell_type": "code",
   "execution_count": 7,
   "metadata": {},
   "outputs": [
    {
     "name": "stdout",
     "output_type": "stream",
     "text": [
      "dict_keys(['Routes', 'Quotes', 'Places', 'Carriers', 'Currencies'])\n"
     ]
    },
    {
     "data": {
      "text/plain": [
       "[list, list, list, list, list]"
      ]
     },
     "execution_count": 7,
     "metadata": {},
     "output_type": "execute_result"
    }
   ],
   "source": [
    "# BROWSE ROUTES\n",
    "test_route = SkyScan.browse_routes('SFO-sky','JFK-sky', sk.key, '2019-09-28')\n",
    "t_route = json.loads(test_route.text)\n",
    "print(t_route.keys())\n",
    "[type(t_route[key]) for key in t_route.keys()]"
   ]
  },
  {
   "cell_type": "code",
   "execution_count": 27,
   "metadata": {},
   "outputs": [
    {
     "data": {
      "text/plain": [
       "{'CarrierIds': [833],\n",
       " 'OriginId': 81727,\n",
       " 'DestinationId': 60987,\n",
       " 'DepartureDate': '2019-09-01T00:00:00'}"
      ]
     },
     "execution_count": 27,
     "metadata": {},
     "output_type": "execute_result"
    }
   ],
   "source": [
    "pd.DataFrame(t_route['Quotes'])['OutboundLeg'][0]"
   ]
  },
  {
   "cell_type": "code",
   "execution_count": 8,
   "metadata": {},
   "outputs": [
    {
     "name": "stdout",
     "output_type": "stream",
     "text": [
      "dict_keys(['Dates', 'Quotes', 'Places', 'Carriers', 'Currencies'])\n"
     ]
    },
    {
     "data": {
      "text/plain": [
       "[dict, list, list, list, list]"
      ]
     },
     "execution_count": 8,
     "metadata": {},
     "output_type": "execute_result"
    }
   ],
   "source": [
    "# BROWSE DATES\n",
    "test_dates = SkyScan.browse_dates('EWR-sky','LAX-sky', sk.key, 'anytime')\n",
    "t_dates = json.loads(test_dates.text)\n",
    "print(t_dates.keys())\n",
    "[type(t_dates[key]) for key in t_dates.keys()]"
   ]
  },
  {
   "cell_type": "code",
   "execution_count": 14,
   "metadata": {},
   "outputs": [
    {
     "data": {
      "text/plain": [
       "[                                        OutboundDates\n",
       " 0   {'PartialDate': '2019-08', 'QuoteIds': [1, 2],...\n",
       " 1   {'PartialDate': '2019-09', 'QuoteIds': [3, 4],...\n",
       " 2   {'PartialDate': '2019-10', 'QuoteIds': [5, 6],...\n",
       " 3   {'PartialDate': '2019-11', 'QuoteIds': [7, 8],...\n",
       " 4   {'PartialDate': '2019-12', 'QuoteIds': [9, 10]...\n",
       " 5   {'PartialDate': '2020-01', 'QuoteIds': [11], '...\n",
       " 6   {'PartialDate': '2020-02', 'QuoteIds': [12], '...\n",
       " 7   {'PartialDate': '2020-03', 'QuoteIds': [13], '...\n",
       " 8   {'PartialDate': '2020-04', 'QuoteIds': [14], '...\n",
       " 9   {'PartialDate': '2020-05', 'QuoteIds': [15], '...\n",
       " 10  {'PartialDate': '2020-06', 'QuoteIds': [16], '...\n",
       " 11  {'PartialDate': '2020-07', 'QuoteIds': [17], '...,\n",
       "     Direct  MinPrice                                        OutboundLeg  \\\n",
       " 0    False      69.0  {'CarrierIds': [1467], 'OriginId': 50290, 'Des...   \n",
       " 1     True     236.0  {'CarrierIds': [851], 'OriginId': 50290, 'Dest...   \n",
       " 2    False      69.0  {'CarrierIds': [1467], 'OriginId': 50290, 'Des...   \n",
       " 3     True     116.0  {'CarrierIds': [851], 'OriginId': 50290, 'Dest...   \n",
       " 4    False      69.0  {'CarrierIds': [1467], 'OriginId': 50290, 'Des...   \n",
       " 5     True     116.0  {'CarrierIds': [851], 'OriginId': 50290, 'Dest...   \n",
       " 6    False      69.0  {'CarrierIds': [1467], 'OriginId': 50290, 'Des...   \n",
       " 7     True     115.0  {'CarrierIds': [851], 'OriginId': 50290, 'Dest...   \n",
       " 8     True     118.0  {'CarrierIds': [851], 'OriginId': 50290, 'Dest...   \n",
       " 9    False     111.0  {'CarrierIds': [1467], 'OriginId': 50290, 'Des...   \n",
       " 10    True     125.0  {'CarrierIds': [851], 'OriginId': 50290, 'Dest...   \n",
       " 11    True     125.0  {'CarrierIds': [851], 'OriginId': 50290, 'Dest...   \n",
       " 12    True     128.0  {'CarrierIds': [851], 'OriginId': 50290, 'Dest...   \n",
       " 13    True     129.0  {'CarrierIds': [851], 'OriginId': 50290, 'Dest...   \n",
       " 14    True     129.0  {'CarrierIds': [851], 'OriginId': 50290, 'Dest...   \n",
       " 15    True     129.0  {'CarrierIds': [851], 'OriginId': 50290, 'Dest...   \n",
       " 16   False     139.0  {'CarrierIds': [833], 'OriginId': 50290, 'Dest...   \n",
       " \n",
       "           QuoteDateTime  QuoteId  \n",
       " 0   2019-08-21T20:54:00        1  \n",
       " 1   2019-08-21T21:28:00        2  \n",
       " 2   2019-08-21T21:08:00        3  \n",
       " 3   2019-08-21T19:13:00        4  \n",
       " 4   2019-08-21T20:26:00        5  \n",
       " 5   2019-08-21T20:41:00        6  \n",
       " 6   2019-08-21T18:12:00        7  \n",
       " 7   2019-08-14T01:34:00        8  \n",
       " 8   2019-08-13T22:23:00        9  \n",
       " 9   2019-08-21T17:59:00       10  \n",
       " 10  2019-08-14T17:43:00       11  \n",
       " 11  2019-08-14T05:06:00       12  \n",
       " 12  2019-08-15T17:58:00       13  \n",
       " 13  2019-08-21T20:23:00       14  \n",
       " 14  2019-08-21T18:37:00       15  \n",
       " 15  2019-08-18T18:35:00       16  \n",
       " 16  2019-08-21T19:50:00       17  ,\n",
       "   CityId     CityName    CountryName IataCode                       Name  \\\n",
       " 0   NYCA     New York  United States      EWR            New York Newark   \n",
       " 1   LAXA  Los Angeles  United States      LAX  Los Angeles International   \n",
       " \n",
       "    PlaceId SkyscannerCode     Type  \n",
       " 0    50290            EWR  Station  \n",
       " 1    65368            LAX  Station  ,\n",
       "    CarrierId               Name\n",
       " 0        833  American Airlines\n",
       " 1        851    Alaska Airlines\n",
       " 2       1467    Spirit Airlines,\n",
       "   Code  DecimalDigits DecimalSeparator  RoundingCoefficient  \\\n",
       " 0  USD              2                .                    0   \n",
       " \n",
       "    SpaceBetweenAmountAndSymbol Symbol  SymbolOnLeft ThousandsSeparator  \n",
       " 0                        False      $          True                  ,  ]"
      ]
     },
     "execution_count": 14,
     "metadata": {},
     "output_type": "execute_result"
    }
   ],
   "source": [
    "[pd.DataFrame(t_dates[key]) for key in t_dates.keys()]"
   ]
  }
 ],
 "metadata": {
  "kernelspec": {
   "display_name": "Python 3",
   "language": "python",
   "name": "python3"
  },
  "language_info": {
   "codemirror_mode": {
    "name": "ipython",
    "version": 3
   },
   "file_extension": ".py",
   "mimetype": "text/x-python",
   "name": "python",
   "nbconvert_exporter": "python",
   "pygments_lexer": "ipython3",
   "version": "3.7.3"
  }
 },
 "nbformat": 4,
 "nbformat_minor": 2
}
