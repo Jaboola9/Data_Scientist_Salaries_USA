{
 "cells": [
  {
   "cell_type": "code",
   "execution_count": null,
   "metadata": {},
   "outputs": [],
   "source": [
    "# Use the endpoint POST Create session to create a query session for LIVE FLIGHT SEARCH\n",
    "# Required: originPlace: \n",
    "#           destinationPlace: \n",
    "#           outboundDate:\n",
    "    \n",
    "#     Get back the session ID in the Location header from POST Create session.\n",
    "#     Poll the results using the endpoint GET Poll session results."
   ]
  },
  {
   "cell_type": "code",
   "execution_count": 1,
   "metadata": {},
   "outputs": [],
   "source": [
    "import SkyScan\n",
    "import sky as sk\n",
    "import pandas as pd\n",
    "import requests"
   ]
  },
  {
   "cell_type": "code",
   "execution_count": null,
   "metadata": {},
   "outputs": [],
   "source": [
    "# POST to initiate LIVE FLIGHT SEARCH\n",
    "\n",
    "post_url = sky_api_host + \"apiservices/pricing/v1.0\"\n",
    "\n",
    "payload = \"inboundDate=&cabinClass=&children=&infants=&country=&currency=&locale=&originPlace=&destinationPlace=&outboundDate=&adults=\"\n",
    "headers = {\n",
    "    'x-rapidapi-host': sky_api_host,\n",
    "    'x-rapidapi-key': sk.sky_key,\n",
    "    'content-type': \"application/x-www-form-urlencoded\"\n",
    "    }\n",
    "\n",
    "response = requests.request(\"POST\", post_url, data=payload, headers=headers)"
   ]
  },
  {
   "cell_type": "code",
   "execution_count": 3,
   "metadata": {},
   "outputs": [
    {
     "data": {
      "text/plain": [
       "'{\"Quotes\":[{\"QuoteId\":1,\"MinPrice\":117.0,\"Direct\":true,\"OutboundLeg\":{\"CarrierIds\":[851],\"OriginId\":81727,\"DestinationId\":60987,\"DepartureDate\":\"2019-09-28T00:00:00\"},\"QuoteDateTime\":\"2019-08-21T05:07:00\"}],\"Places\":[{\"PlaceId\":60987,\"IataCode\":\"JFK\",\"Name\":\"New York John F. Kennedy\",\"Type\":\"Station\",\"SkyscannerCode\":\"JFK\",\"CityName\":\"New York\",\"CityId\":\"NYCA\",\"CountryName\":\"United States\"},{\"PlaceId\":81727,\"IataCode\":\"SFO\",\"Name\":\"San Francisco International\",\"Type\":\"Station\",\"SkyscannerCode\":\"SFO\",\"CityName\":\"San Francisco\",\"CityId\":\"SFOA\",\"CountryName\":\"United States\"}],\"Carriers\":[{\"CarrierId\":833,\"Name\":\"American Airlines\"},{\"CarrierId\":851,\"Name\":\"Alaska Airlines\"},{\"CarrierId\":870,\"Name\":\"jetBlue\"},{\"CarrierId\":988,\"Name\":\"Delta\"}],\"Currencies\":[{\"Code\":\"USD\",\"Symbol\":\"$\",\"ThousandsSeparator\":\",\",\"DecimalSeparator\":\".\",\"SymbolOnLeft\":true,\"SpaceBetweenAmountAndSymbol\":false,\"RoundingCoefficient\":0,\"DecimalDigits\":2}]}'"
      ]
     },
     "execution_count": 3,
     "metadata": {},
     "output_type": "execute_result"
    }
   ],
   "source": [
    "# BROWSE QUOTES\n",
    "test_quote = SkyScan.browse_quotes('SFO-sky','JFK-sky', sk.key, '2019-09-28')\n",
    "test_quote.text"
   ]
  },
  {
   "cell_type": "code",
   "execution_count": 2,
   "metadata": {},
   "outputs": [
    {
     "data": {
      "text/plain": [
       "'{\"Routes\":[],\"Quotes\":[{\"QuoteId\":1,\"MinPrice\":248.0,\"Direct\":false,\"OutboundLeg\":{\"CarrierIds\":[833],\"OriginId\":81727,\"DestinationId\":60987,\"DepartureDate\":\"2019-09-01T00:00:00\"},\"QuoteDateTime\":\"2019-08-21T15:24:00\"},{\"QuoteId\":2,\"MinPrice\":305.0,\"Direct\":true,\"OutboundLeg\":{\"CarrierIds\":[870],\"OriginId\":81727,\"DestinationId\":60987,\"DepartureDate\":\"2019-09-01T00:00:00\"},\"QuoteDateTime\":\"2019-08-14T02:55:00\"},{\"QuoteId\":3,\"MinPrice\":319.0,\"Direct\":true,\"OutboundLeg\":{\"CarrierIds\":[851],\"OriginId\":81727,\"DestinationId\":60987,\"DepartureDate\":\"2019-09-02T00:00:00\"},\"QuoteDateTime\":\"2019-08-21T18:07:00\"},{\"QuoteId\":4,\"MinPrice\":250.0,\"Direct\":true,\"OutboundLeg\":{\"CarrierIds\":[851],\"OriginId\":81727,\"DestinationId\":60987,\"DepartureDate\":\"2019-09-03T00:00:00\"},\"QuoteDateTime\":\"2019-08-21T14:22:00\"},{\"QuoteId\":5,\"MinPrice\":152.0,\"Direct\":true,\"OutboundLeg\":{\"CarrierIds\":[988],\"OriginId\":81727,\"DestinationId\":60987,\"DepartureDate\":\"2019-09-04T00:00:00\"},\"QuoteDateTime\":\"2019-08-21T18:43:00\"},{\"QuoteId\":6,\"MinPrice\":149.0,\"Direct\":true,\"OutboundLeg\":{\"CarrierIds\":[851],\"OriginId\":81727,\"DestinationId\":60987,\"DepartureDate\":\"2019-09-05T00:00:00\"},\"QuoteDateTime\":\"2019-08-21T16:50:00\"},{\"QuoteId\":7,\"MinPrice\":141.0,\"Direct\":true,\"OutboundLeg\":{\"CarrierIds\":[870],\"OriginId\":81727,\"DestinationId\":60987,\"DepartureDate\":\"2019-09-06T00:00:00\"},\"QuoteDateTime\":\"2019-08-14T07:40:00\"},{\"QuoteId\":8,\"MinPrice\":141.0,\"Direct\":true,\"OutboundLeg\":{\"CarrierIds\":[870],\"OriginId\":81727,\"DestinationId\":60987,\"DepartureDate\":\"2019-09-07T00:00:00\"},\"QuoteDateTime\":\"2019-08-14T07:41:00\"},{\"QuoteId\":9,\"MinPrice\":149.0,\"Direct\":true,\"OutboundLeg\":{\"CarrierIds\":[870],\"OriginId\":81727,\"DestinationId\":60987,\"DepartureDate\":\"2019-09-08T00:00:00\"},\"QuoteDateTime\":\"2019-08-14T01:42:00\"},{\"QuoteId\":10,\"MinPrice\":152.0,\"Direct\":true,\"OutboundLeg\":{\"CarrierIds\":[833],\"OriginId\":81727,\"DestinationId\":60987,\"DepartureDate\":\"2019-09-09T00:00:00\"},\"QuoteDateTime\":\"2019-08-21T17:37:00\"},{\"QuoteId\":11,\"MinPrice\":112.0,\"Direct\":true,\"OutboundLeg\":{\"CarrierIds\":[870],\"OriginId\":81727,\"DestinationId\":60987,\"DepartureDate\":\"2019-09-10T00:00:00\"},\"QuoteDateTime\":\"2019-08-14T06:58:00\"},{\"QuoteId\":12,\"MinPrice\":112.0,\"Direct\":true,\"OutboundLeg\":{\"CarrierIds\":[870],\"OriginId\":81727,\"DestinationId\":60987,\"DepartureDate\":\"2019-09-11T00:00:00\"},\"QuoteDateTime\":\"2019-08-14T03:09:00\"},{\"QuoteId\":13,\"MinPrice\":158.0,\"Direct\":false,\"OutboundLeg\":{\"CarrierIds\":[833],\"OriginId\":81727,\"DestinationId\":60987,\"DepartureDate\":\"2019-09-12T00:00:00\"},\"QuoteDateTime\":\"2019-08-21T17:44:00\"},{\"QuoteId\":14,\"MinPrice\":160.0,\"Direct\":true,\"OutboundLeg\":{\"CarrierIds\":[851],\"OriginId\":81727,\"DestinationId\":60987,\"DepartureDate\":\"2019-09-12T00:00:00\"},\"QuoteDateTime\":\"2019-08-21T17:44:00\"},{\"QuoteId\":15,\"MinPrice\":132.0,\"Direct\":true,\"OutboundLeg\":{\"CarrierIds\":[988],\"OriginId\":81727,\"DestinationId\":60987,\"DepartureDate\":\"2019-09-13T00:00:00\"},\"QuoteDateTime\":\"2019-08-21T15:53:00\"},{\"QuoteId\":16,\"MinPrice\":117.0,\"Direct\":true,\"OutboundLeg\":{\"CarrierIds\":[851],\"OriginId\":81727,\"DestinationId\":60987,\"DepartureDate\":\"2019-09-14T00:00:00\"},\"QuoteDateTime\":\"2019-08-20T19:34:00\"},{\"QuoteId\":17,\"MinPrice\":150.0,\"Direct\":true,\"OutboundLeg\":{\"CarrierIds\":[870],\"OriginId\":81727,\"DestinationId\":60987,\"DepartureDate\":\"2019-09-15T00:00:00\"},\"QuoteDateTime\":\"2019-08-14T00:45:00\"},{\"QuoteId\":18,\"MinPrice\":117.0,\"Direct\":true,\"OutboundLeg\":{\"CarrierIds\":[851],\"OriginId\":81727,\"DestinationId\":60987,\"DepartureDate\":\"2019-09-16T00:00:00\"},\"QuoteDateTime\":\"2019-08-21T17:32:00\"},{\"QuoteId\":19,\"MinPrice\":112.0,\"Direct\":true,\"OutboundLeg\":{\"CarrierIds\":[870],\"OriginId\":81727,\"DestinationId\":60987,\"DepartureDate\":\"2019-09-17T00:00:00\"},\"QuoteDateTime\":\"2019-08-14T05:43:00\"},{\"QuoteId\":20,\"MinPrice\":112.0,\"Direct\":true,\"OutboundLeg\":{\"CarrierIds\":[870],\"OriginId\":81727,\"DestinationId\":60987,\"DepartureDate\":\"2019-09-18T00:00:00\"},\"QuoteDateTime\":\"2019-08-14T03:58:00\"},{\"QuoteId\":21,\"MinPrice\":112.0,\"Direct\":true,\"OutboundLeg\":{\"CarrierIds\":[870],\"OriginId\":81727,\"DestinationId\":60987,\"DepartureDate\":\"2019-09-20T00:00:00\"},\"QuoteDateTime\":\"2019-08-14T02:28:00\"},{\"QuoteId\":22,\"MinPrice\":112.0,\"Direct\":true,\"OutboundLeg\":{\"CarrierIds\":[870],\"OriginId\":81727,\"DestinationId\":60987,\"DepartureDate\":\"2019-09-21T00:00:00\"},\"QuoteDateTime\":\"2019-08-14T04:49:00\"},{\"QuoteId\":23,\"MinPrice\":202.0,\"Direct\":false,\"OutboundLeg\":{\"CarrierIds\":[851],\"OriginId\":81727,\"DestinationId\":60987,\"DepartureDate\":\"2019-09-22T00:00:00\"},\"QuoteDateTime\":\"2019-08-21T15:22:00\"},{\"QuoteId\":24,\"MinPrice\":209.0,\"Direct\":true,\"OutboundLeg\":{\"CarrierIds\":[851],\"OriginId\":81727,\"DestinationId\":60987,\"DepartureDate\":\"2019-09-22T00:00:00\"},\"QuoteDateTime\":\"2019-08-21T15:22:00\"},{\"QuoteId\":25,\"MinPrice\":128.0,\"Direct\":false,\"OutboundLeg\":{\"CarrierIds\":[833],\"OriginId\":81727,\"DestinationId\":60987,\"DepartureDate\":\"2019-09-23T00:00:00\"},\"QuoteDateTime\":\"2019-08-21T15:34:00\"},{\"QuoteId\":26,\"MinPrice\":141.0,\"Direct\":true,\"OutboundLeg\":{\"CarrierIds\":[870],\"OriginId\":81727,\"DestinationId\":60987,\"DepartureDate\":\"2019-09-23T00:00:00\"},\"QuoteDateTime\":\"2019-08-14T02:29:00\"},{\"QuoteId\":27,\"MinPrice\":112.0,\"Direct\":true,\"OutboundLeg\":{\"CarrierIds\":[870],\"OriginId\":81727,\"DestinationId\":60987,\"DepartureDate\":\"2019-09-24T00:00:00\"},\"QuoteDateTime\":\"2019-08-14T05:38:00\"},{\"QuoteId\":28,\"MinPrice\":116.0,\"Direct\":true,\"OutboundLeg\":{\"CarrierIds\":[851],\"OriginId\":81727,\"DestinationId\":60987,\"DepartureDate\":\"2019-09-25T00:00:00\"},\"QuoteDateTime\":\"2019-08-21T18:32:00\"},{\"QuoteId\":29,\"MinPrice\":141.0,\"Direct\":true,\"OutboundLeg\":{\"CarrierIds\":[870],\"OriginId\":81727,\"DestinationId\":60987,\"DepartureDate\":\"2019-09-26T00:00:00\"},\"QuoteDateTime\":\"2019-08-14T01:48:00\"},{\"QuoteId\":30,\"MinPrice\":119.0,\"Direct\":true,\"OutboundLeg\":{\"CarrierIds\":[851],\"OriginId\":81727,\"DestinationId\":60987,\"DepartureDate\":\"2019-09-27T00:00:00\"},\"QuoteDateTime\":\"2019-08-21T15:47:00\"},{\"QuoteId\":31,\"MinPrice\":117.0,\"Direct\":true,\"OutboundLeg\":{\"CarrierIds\":[851],\"OriginId\":81727,\"DestinationId\":60987,\"DepartureDate\":\"2019-09-28T00:00:00\"},\"QuoteDateTime\":\"2019-08-21T05:07:00\"},{\"QuoteId\":32,\"MinPrice\":150.0,\"Direct\":true,\"OutboundLeg\":{\"CarrierIds\":[870],\"OriginId\":81727,\"DestinationId\":60987,\"DepartureDate\":\"2019-09-29T00:00:00\"},\"QuoteDateTime\":\"2019-08-14T05:59:00\"},{\"QuoteId\":33,\"MinPrice\":149.0,\"Direct\":true,\"OutboundLeg\":{\"CarrierIds\":[870],\"OriginId\":81727,\"DestinationId\":60987,\"DepartureDate\":\"2019-09-30T00:00:00\"},\"QuoteDateTime\":\"2019-08-21T14:41:00\"}],\"Places\":[{\"PlaceId\":60987,\"IataCode\":\"JFK\",\"Name\":\"New York John F. Kennedy\",\"Type\":\"Station\",\"SkyscannerCode\":\"JFK\",\"CityName\":\"New York\",\"CityId\":\"NYCA\",\"CountryName\":\"United States\"},{\"PlaceId\":81727,\"IataCode\":\"SFO\",\"Name\":\"San Francisco International\",\"Type\":\"Station\",\"SkyscannerCode\":\"SFO\",\"CityName\":\"San Francisco\",\"CityId\":\"SFOA\",\"CountryName\":\"United States\"}],\"Carriers\":[{\"CarrierId\":833,\"Name\":\"American Airlines\"},{\"CarrierId\":851,\"Name\":\"Alaska Airlines\"},{\"CarrierId\":870,\"Name\":\"jetBlue\"},{\"CarrierId\":988,\"Name\":\"Delta\"}],\"Currencies\":[{\"Code\":\"USD\",\"Symbol\":\"$\",\"ThousandsSeparator\":\",\",\"DecimalSeparator\":\".\",\"SymbolOnLeft\":true,\"SpaceBetweenAmountAndSymbol\":false,\"RoundingCoefficient\":0,\"DecimalDigits\":2}]}'"
      ]
     },
     "execution_count": 2,
     "metadata": {},
     "output_type": "execute_result"
    }
   ],
   "source": [
    "test_route = SkyScan.browse_routes('SFO-sky','JFK-sky', sk.key, '2019-09-28')\n",
    "test_route.text"
   ]
  },
  {
   "cell_type": "code",
   "execution_count": 4,
   "metadata": {},
   "outputs": [
    {
     "data": {
      "text/plain": [
       "'{\"Dates\":{\"OutboundDates\":[{\"PartialDate\":\"2019-09\",\"QuoteIds\":[1],\"Price\":112.0,\"QuoteDateTime\":\"2019-08-14T03:09:00\"},{\"PartialDate\":\"2019-10\",\"QuoteIds\":[2],\"Price\":112.0,\"QuoteDateTime\":\"2019-08-14T01:36:00\"},{\"PartialDate\":\"2019-11\",\"QuoteIds\":[3],\"Price\":112.0,\"QuoteDateTime\":\"2019-08-14T03:24:00\"},{\"PartialDate\":\"2019-12\",\"QuoteIds\":[4],\"Price\":125.0,\"QuoteDateTime\":\"2019-08-14T05:51:00\"},{\"PartialDate\":\"2020-01\",\"QuoteIds\":[5],\"Price\":122.0,\"QuoteDateTime\":\"2019-08-14T00:13:00\"},{\"PartialDate\":\"2020-02\",\"QuoteIds\":[6],\"Price\":122.0,\"QuoteDateTime\":\"2019-08-14T04:13:00\"},{\"PartialDate\":\"2020-03\",\"QuoteIds\":[7],\"Price\":129.0,\"QuoteDateTime\":\"2019-08-20T20:32:00\"},{\"PartialDate\":\"2020-04\",\"QuoteIds\":[8],\"Price\":129.0,\"QuoteDateTime\":\"2019-08-15T00:39:00\"},{\"PartialDate\":\"2020-05\",\"QuoteIds\":[9],\"Price\":129.0,\"QuoteDateTime\":\"2019-08-15T01:27:00\"},{\"PartialDate\":\"2020-06\",\"QuoteIds\":[10],\"Price\":129.0,\"QuoteDateTime\":\"2019-08-16T20:31:00\"},{\"PartialDate\":\"2020-07\",\"QuoteIds\":[11],\"Price\":132.0,\"QuoteDateTime\":\"2019-08-19T03:37:00\"}]},\"Quotes\":[{\"QuoteId\":1,\"MinPrice\":112.0,\"Direct\":true,\"OutboundLeg\":{\"CarrierIds\":[870],\"OriginId\":81727,\"DestinationId\":60987,\"DepartureDate\":\"2019-09-11T00:00:00\"},\"QuoteDateTime\":\"2019-08-14T03:09:00\"},{\"QuoteId\":2,\"MinPrice\":112.0,\"Direct\":true,\"OutboundLeg\":{\"CarrierIds\":[870],\"OriginId\":81727,\"DestinationId\":60987,\"DepartureDate\":\"2019-10-29T00:00:00\"},\"QuoteDateTime\":\"2019-08-14T01:36:00\"},{\"QuoteId\":3,\"MinPrice\":112.0,\"Direct\":true,\"OutboundLeg\":{\"CarrierIds\":[870],\"OriginId\":81727,\"DestinationId\":60987,\"DepartureDate\":\"2019-11-11T00:00:00\"},\"QuoteDateTime\":\"2019-08-14T03:24:00\"},{\"QuoteId\":4,\"MinPrice\":125.0,\"Direct\":true,\"OutboundLeg\":{\"CarrierIds\":[870],\"OriginId\":81727,\"DestinationId\":60987,\"DepartureDate\":\"2019-12-05T00:00:00\"},\"QuoteDateTime\":\"2019-08-14T05:51:00\"},{\"QuoteId\":5,\"MinPrice\":122.0,\"Direct\":true,\"OutboundLeg\":{\"CarrierIds\":[870],\"OriginId\":81727,\"DestinationId\":60987,\"DepartureDate\":\"2020-01-28T00:00:00\"},\"QuoteDateTime\":\"2019-08-14T00:13:00\"},{\"QuoteId\":6,\"MinPrice\":122.0,\"Direct\":true,\"OutboundLeg\":{\"CarrierIds\":[870],\"OriginId\":81727,\"DestinationId\":60987,\"DepartureDate\":\"2020-02-01T00:00:00\"},\"QuoteDateTime\":\"2019-08-14T04:13:00\"},{\"QuoteId\":7,\"MinPrice\":129.0,\"Direct\":true,\"OutboundLeg\":{\"CarrierIds\":[851],\"OriginId\":81727,\"DestinationId\":60987,\"DepartureDate\":\"2020-03-14T00:00:00\"},\"QuoteDateTime\":\"2019-08-20T20:32:00\"},{\"QuoteId\":8,\"MinPrice\":129.0,\"Direct\":true,\"OutboundLeg\":{\"CarrierIds\":[851],\"OriginId\":81727,\"DestinationId\":60987,\"DepartureDate\":\"2020-04-08T00:00:00\"},\"QuoteDateTime\":\"2019-08-15T00:39:00\"},{\"QuoteId\":9,\"MinPrice\":129.0,\"Direct\":true,\"OutboundLeg\":{\"CarrierIds\":[851],\"OriginId\":81727,\"DestinationId\":60987,\"DepartureDate\":\"2020-05-06T00:00:00\"},\"QuoteDateTime\":\"2019-08-15T01:27:00\"},{\"QuoteId\":10,\"MinPrice\":129.0,\"Direct\":true,\"OutboundLeg\":{\"CarrierIds\":[851],\"OriginId\":81727,\"DestinationId\":60987,\"DepartureDate\":\"2020-06-22T00:00:00\"},\"QuoteDateTime\":\"2019-08-16T20:31:00\"},{\"QuoteId\":11,\"MinPrice\":132.0,\"Direct\":true,\"OutboundLeg\":{\"CarrierIds\":[851],\"OriginId\":81727,\"DestinationId\":60987,\"DepartureDate\":\"2020-07-03T00:00:00\"},\"QuoteDateTime\":\"2019-08-19T03:37:00\"}],\"Places\":[{\"PlaceId\":60987,\"IataCode\":\"JFK\",\"Name\":\"New York John F. Kennedy\",\"Type\":\"Station\",\"SkyscannerCode\":\"JFK\",\"CityName\":\"New York\",\"CityId\":\"NYCA\",\"CountryName\":\"United States\"},{\"PlaceId\":81727,\"IataCode\":\"SFO\",\"Name\":\"San Francisco International\",\"Type\":\"Station\",\"SkyscannerCode\":\"SFO\",\"CityName\":\"San Francisco\",\"CityId\":\"SFOA\",\"CountryName\":\"United States\"}],\"Carriers\":[{\"CarrierId\":851,\"Name\":\"Alaska Airlines\"},{\"CarrierId\":870,\"Name\":\"jetBlue\"}],\"Currencies\":[{\"Code\":\"USD\",\"Symbol\":\"$\",\"ThousandsSeparator\":\",\",\"DecimalSeparator\":\".\",\"SymbolOnLeft\":true,\"SpaceBetweenAmountAndSymbol\":false,\"RoundingCoefficient\":0,\"DecimalDigits\":2}]}'"
      ]
     },
     "execution_count": 4,
     "metadata": {},
     "output_type": "execute_result"
    }
   ],
   "source": [
    "test_dates = SkyScan.browse_dates('SFO-sky','JFK-sky', sk.key, 'anytime')\n",
    "test_dates.text"
   ]
  },
  {
   "cell_type": "code",
   "execution_count": null,
   "metadata": {},
   "outputs": [],
   "source": []
  }
 ],
 "metadata": {
  "kernelspec": {
   "display_name": "Python 3",
   "language": "python",
   "name": "python3"
  },
  "language_info": {
   "codemirror_mode": {
    "name": "ipython",
    "version": 3
   },
   "file_extension": ".py",
   "mimetype": "text/x-python",
   "name": "python",
   "nbconvert_exporter": "python",
   "pygments_lexer": "ipython3",
   "version": "3.7.3"
  }
 },
 "nbformat": 4,
 "nbformat_minor": 2
}
