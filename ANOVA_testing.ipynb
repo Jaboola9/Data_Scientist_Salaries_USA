{
 "cells": [
  {
   "cell_type": "code",
   "execution_count": 240,
   "metadata": {},
   "outputs": [
    {
     "name": "stdout",
     "output_type": "stream",
     "text": [
      "Requirement already satisfied: scikit-posthocs in c:\\programdata\\anaconda3\\lib\\site-packages (0.6.1)\n",
      "Requirement already satisfied: numpy in c:\\programdata\\anaconda3\\lib\\site-packages (from scikit-posthocs) (1.16.2)\n",
      "Requirement already satisfied: scipy in c:\\programdata\\anaconda3\\lib\\site-packages (from scikit-posthocs) (1.2.1)\n",
      "Requirement already satisfied: statsmodels in c:\\programdata\\anaconda3\\lib\\site-packages (from scikit-posthocs) (0.9.0)\n",
      "Requirement already satisfied: matplotlib in c:\\programdata\\anaconda3\\lib\\site-packages (from scikit-posthocs) (3.0.3)\n",
      "Requirement already satisfied: pandas>=0.20.0 in c:\\programdata\\anaconda3\\lib\\site-packages (from scikit-posthocs) (0.24.2)\n",
      "Requirement already satisfied: seaborn in c:\\programdata\\anaconda3\\lib\\site-packages (from scikit-posthocs) (0.9.0)\n",
      "Requirement already satisfied: cycler>=0.10 in c:\\programdata\\anaconda3\\lib\\site-packages (from matplotlib->scikit-posthocs) (0.10.0)\n",
      "Requirement already satisfied: kiwisolver>=1.0.1 in c:\\programdata\\anaconda3\\lib\\site-packages (from matplotlib->scikit-posthocs) (1.0.1)\n",
      "Requirement already satisfied: pyparsing!=2.0.4,!=2.1.2,!=2.1.6,>=2.0.1 in c:\\programdata\\anaconda3\\lib\\site-packages (from matplotlib->scikit-posthocs) (2.3.1)\n",
      "Requirement already satisfied: python-dateutil>=2.1 in c:\\programdata\\anaconda3\\lib\\site-packages (from matplotlib->scikit-posthocs) (2.8.0)\n",
      "Requirement already satisfied: pytz>=2011k in c:\\programdata\\anaconda3\\lib\\site-packages (from pandas>=0.20.0->scikit-posthocs) (2018.9)\n",
      "Requirement already satisfied: six in c:\\programdata\\anaconda3\\lib\\site-packages (from cycler>=0.10->matplotlib->scikit-posthocs) (1.12.0)\n",
      "Requirement already satisfied: setuptools in c:\\programdata\\anaconda3\\lib\\site-packages (from kiwisolver>=1.0.1->matplotlib->scikit-posthocs) (40.8.0)\n"
     ]
    }
   ],
   "source": [
    "!pip install scikit-posthocs"
   ]
  },
  {
   "cell_type": "code",
   "execution_count": 241,
   "metadata": {},
   "outputs": [],
   "source": [
    "import DCDSFunctions as f\n",
    "import pandas as pd\n",
    "import numpy as np\n",
    "import pickle\n",
    "import datetime\n",
    "import seaborn as sns\n",
    "import matplotlib.pyplot as plt\n",
    "import statsmodels.api as sm\n",
    "import itertools\n",
    "from statsmodels.formula.api import ols\n",
    "from statsmodels.stats.multicomp import pairwise_tukeyhsd\n",
    "from scipy import stats\n",
    "import scikit_posthocs as ph"
   ]
  },
  {
   "cell_type": "code",
   "execution_count": 266,
   "metadata": {},
   "outputs": [],
   "source": [
    "h1b1 = pd.read_csv('data/cleaned_for_testing.csv')"
   ]
  },
  {
   "cell_type": "code",
   "execution_count": 267,
   "metadata": {},
   "outputs": [
    {
     "name": "stdout",
     "output_type": "stream",
     "text": [
      "<class 'pandas.core.frame.DataFrame'>\n",
      "RangeIndex: 9028 entries, 0 to 9027\n",
      "Data columns (total 10 columns):\n",
      "Company       9028 non-null object\n",
      "Location      9028 non-null object\n",
      "Role          9028 non-null object\n",
      "Salary        9028 non-null int64\n",
      "StartDate     9028 non-null object\n",
      "Status        9028 non-null object\n",
      "SubmitDate    9028 non-null object\n",
      "Year          9028 non-null int64\n",
      "Region        9028 non-null object\n",
      "Industry      9028 non-null object\n",
      "dtypes: int64(2), object(8)\n",
      "memory usage: 705.4+ KB\n"
     ]
    }
   ],
   "source": [
    "h1b1.info()"
   ]
  },
  {
   "cell_type": "code",
   "execution_count": 268,
   "metadata": {},
   "outputs": [
    {
     "data": {
      "text/html": [
       "<div>\n",
       "<style scoped>\n",
       "    .dataframe tbody tr th:only-of-type {\n",
       "        vertical-align: middle;\n",
       "    }\n",
       "\n",
       "    .dataframe tbody tr th {\n",
       "        vertical-align: top;\n",
       "    }\n",
       "\n",
       "    .dataframe thead th {\n",
       "        text-align: right;\n",
       "    }\n",
       "</style>\n",
       "<table border=\"1\" class=\"dataframe\">\n",
       "  <thead>\n",
       "    <tr style=\"text-align: right;\">\n",
       "      <th></th>\n",
       "      <th>count</th>\n",
       "      <th>mean</th>\n",
       "      <th>std</th>\n",
       "      <th>min</th>\n",
       "      <th>25%</th>\n",
       "      <th>50%</th>\n",
       "      <th>75%</th>\n",
       "      <th>max</th>\n",
       "    </tr>\n",
       "  </thead>\n",
       "  <tbody>\n",
       "    <tr>\n",
       "      <th>Salary</th>\n",
       "      <td>9028.0</td>\n",
       "      <td>108208.093930</td>\n",
       "      <td>29583.272983</td>\n",
       "      <td>5769.0</td>\n",
       "      <td>85738.0</td>\n",
       "      <td>105000.0</td>\n",
       "      <td>127011.5</td>\n",
       "      <td>312000.0</td>\n",
       "    </tr>\n",
       "    <tr>\n",
       "      <th>Year</th>\n",
       "      <td>9028.0</td>\n",
       "      <td>2017.600798</td>\n",
       "      <td>1.283519</td>\n",
       "      <td>2014.0</td>\n",
       "      <td>2017.0</td>\n",
       "      <td>2018.0</td>\n",
       "      <td>2019.0</td>\n",
       "      <td>2019.0</td>\n",
       "    </tr>\n",
       "  </tbody>\n",
       "</table>\n",
       "</div>"
      ],
      "text/plain": [
       "         count           mean           std     min      25%       50%  \\\n",
       "Salary  9028.0  108208.093930  29583.272983  5769.0  85738.0  105000.0   \n",
       "Year    9028.0    2017.600798      1.283519  2014.0   2017.0    2018.0   \n",
       "\n",
       "             75%       max  \n",
       "Salary  127011.5  312000.0  \n",
       "Year      2019.0    2019.0  "
      ]
     },
     "execution_count": 268,
     "metadata": {},
     "output_type": "execute_result"
    }
   ],
   "source": [
    "h1b1.describe().T"
   ]
  },
  {
   "cell_type": "code",
   "execution_count": 269,
   "metadata": {},
   "outputs": [
    {
     "data": {
      "text/plain": [
       "Year\n",
       "2018    808\n",
       "2019    764\n",
       "2017    525\n",
       "2016    365\n",
       "2015    233\n",
       "2014     51\n",
       "Name: Salary, dtype: int64"
      ]
     },
     "execution_count": 269,
     "metadata": {},
     "output_type": "execute_result"
    }
   ],
   "source": [
    "# comparing accross more than two years is problematic so lets see when the bulk of our data comes from\n",
    "h1b1.groupby('Year')['Salary'].nunique().sort_values(ascending=False)"
   ]
  },
  {
   "cell_type": "code",
   "execution_count": 270,
   "metadata": {},
   "outputs": [
    {
     "data": {
      "text/plain": [
       "[2014, 2015, 2016, 2017, 2018, 2019]"
      ]
     },
     "execution_count": 270,
     "metadata": {},
     "output_type": "execute_result"
    }
   ],
   "source": [
    "years = list(h1b1.Year.unique())\n",
    "years"
   ]
  },
  {
   "cell_type": "code",
   "execution_count": 271,
   "metadata": {},
   "outputs": [],
   "source": [
    "def slice_by_year(df, year):\n",
    "    slice_df = df[df['Year'] == year]\n",
    "    return slice_df"
   ]
  },
  {
   "cell_type": "code",
   "execution_count": 272,
   "metadata": {},
   "outputs": [
    {
     "name": "stdout",
     "output_type": "stream",
     "text": [
      "2014\n"
     ]
    },
    {
     "data": {
      "text/html": [
       "<div>\n",
       "<style scoped>\n",
       "    .dataframe tbody tr th:only-of-type {\n",
       "        vertical-align: middle;\n",
       "    }\n",
       "\n",
       "    .dataframe tbody tr th {\n",
       "        vertical-align: top;\n",
       "    }\n",
       "\n",
       "    .dataframe thead th {\n",
       "        text-align: right;\n",
       "    }\n",
       "</style>\n",
       "<table border=\"1\" class=\"dataframe\">\n",
       "  <thead>\n",
       "    <tr style=\"text-align: right;\">\n",
       "      <th></th>\n",
       "      <th>count</th>\n",
       "      <th>mean</th>\n",
       "      <th>std</th>\n",
       "      <th>min</th>\n",
       "      <th>25%</th>\n",
       "      <th>50%</th>\n",
       "      <th>75%</th>\n",
       "      <th>max</th>\n",
       "    </tr>\n",
       "  </thead>\n",
       "  <tbody>\n",
       "    <tr>\n",
       "      <th>Salary</th>\n",
       "      <td>83.0</td>\n",
       "      <td>121389.349398</td>\n",
       "      <td>23946.680923</td>\n",
       "      <td>64210.0</td>\n",
       "      <td>105000.0</td>\n",
       "      <td>120000.0</td>\n",
       "      <td>137286.5</td>\n",
       "      <td>175000.0</td>\n",
       "    </tr>\n",
       "    <tr>\n",
       "      <th>Year</th>\n",
       "      <td>83.0</td>\n",
       "      <td>2014.000000</td>\n",
       "      <td>0.000000</td>\n",
       "      <td>2014.0</td>\n",
       "      <td>2014.0</td>\n",
       "      <td>2014.0</td>\n",
       "      <td>2014.0</td>\n",
       "      <td>2014.0</td>\n",
       "    </tr>\n",
       "  </tbody>\n",
       "</table>\n",
       "</div>"
      ],
      "text/plain": [
       "        count           mean           std      min       25%       50%  \\\n",
       "Salary   83.0  121389.349398  23946.680923  64210.0  105000.0  120000.0   \n",
       "Year     83.0    2014.000000      0.000000   2014.0    2014.0    2014.0   \n",
       "\n",
       "             75%       max  \n",
       "Salary  137286.5  175000.0  \n",
       "Year      2014.0    2014.0  "
      ]
     },
     "metadata": {},
     "output_type": "display_data"
    },
    {
     "name": "stdout",
     "output_type": "stream",
     "text": [
      "2015\n"
     ]
    },
    {
     "data": {
      "text/html": [
       "<div>\n",
       "<style scoped>\n",
       "    .dataframe tbody tr th:only-of-type {\n",
       "        vertical-align: middle;\n",
       "    }\n",
       "\n",
       "    .dataframe tbody tr th {\n",
       "        vertical-align: top;\n",
       "    }\n",
       "\n",
       "    .dataframe thead th {\n",
       "        text-align: right;\n",
       "    }\n",
       "</style>\n",
       "<table border=\"1\" class=\"dataframe\">\n",
       "  <thead>\n",
       "    <tr style=\"text-align: right;\">\n",
       "      <th></th>\n",
       "      <th>count</th>\n",
       "      <th>mean</th>\n",
       "      <th>std</th>\n",
       "      <th>min</th>\n",
       "      <th>25%</th>\n",
       "      <th>50%</th>\n",
       "      <th>75%</th>\n",
       "      <th>max</th>\n",
       "    </tr>\n",
       "  </thead>\n",
       "  <tbody>\n",
       "    <tr>\n",
       "      <th>Salary</th>\n",
       "      <td>677.0</td>\n",
       "      <td>108270.444609</td>\n",
       "      <td>26786.393004</td>\n",
       "      <td>5769.0</td>\n",
       "      <td>90000.0</td>\n",
       "      <td>110000.0</td>\n",
       "      <td>125000.0</td>\n",
       "      <td>205000.0</td>\n",
       "    </tr>\n",
       "    <tr>\n",
       "      <th>Year</th>\n",
       "      <td>677.0</td>\n",
       "      <td>2015.000000</td>\n",
       "      <td>0.000000</td>\n",
       "      <td>2015.0</td>\n",
       "      <td>2015.0</td>\n",
       "      <td>2015.0</td>\n",
       "      <td>2015.0</td>\n",
       "      <td>2015.0</td>\n",
       "    </tr>\n",
       "  </tbody>\n",
       "</table>\n",
       "</div>"
      ],
      "text/plain": [
       "        count           mean           std     min      25%       50%  \\\n",
       "Salary  677.0  108270.444609  26786.393004  5769.0  90000.0  110000.0   \n",
       "Year    677.0    2015.000000      0.000000  2015.0   2015.0    2015.0   \n",
       "\n",
       "             75%       max  \n",
       "Salary  125000.0  205000.0  \n",
       "Year      2015.0    2015.0  "
      ]
     },
     "metadata": {},
     "output_type": "display_data"
    },
    {
     "name": "stdout",
     "output_type": "stream",
     "text": [
      "2016\n"
     ]
    },
    {
     "data": {
      "text/html": [
       "<div>\n",
       "<style scoped>\n",
       "    .dataframe tbody tr th:only-of-type {\n",
       "        vertical-align: middle;\n",
       "    }\n",
       "\n",
       "    .dataframe tbody tr th {\n",
       "        vertical-align: top;\n",
       "    }\n",
       "\n",
       "    .dataframe thead th {\n",
       "        text-align: right;\n",
       "    }\n",
       "</style>\n",
       "<table border=\"1\" class=\"dataframe\">\n",
       "  <thead>\n",
       "    <tr style=\"text-align: right;\">\n",
       "      <th></th>\n",
       "      <th>count</th>\n",
       "      <th>mean</th>\n",
       "      <th>std</th>\n",
       "      <th>min</th>\n",
       "      <th>25%</th>\n",
       "      <th>50%</th>\n",
       "      <th>75%</th>\n",
       "      <th>max</th>\n",
       "    </tr>\n",
       "  </thead>\n",
       "  <tbody>\n",
       "    <tr>\n",
       "      <th>Salary</th>\n",
       "      <td>1144.0</td>\n",
       "      <td>105585.597028</td>\n",
       "      <td>27774.521628</td>\n",
       "      <td>29973.0</td>\n",
       "      <td>85000.0</td>\n",
       "      <td>105000.0</td>\n",
       "      <td>124425.25</td>\n",
       "      <td>250000.0</td>\n",
       "    </tr>\n",
       "    <tr>\n",
       "      <th>Year</th>\n",
       "      <td>1144.0</td>\n",
       "      <td>2016.000000</td>\n",
       "      <td>0.000000</td>\n",
       "      <td>2016.0</td>\n",
       "      <td>2016.0</td>\n",
       "      <td>2016.0</td>\n",
       "      <td>2016.00</td>\n",
       "      <td>2016.0</td>\n",
       "    </tr>\n",
       "  </tbody>\n",
       "</table>\n",
       "</div>"
      ],
      "text/plain": [
       "         count           mean           std      min      25%       50%  \\\n",
       "Salary  1144.0  105585.597028  27774.521628  29973.0  85000.0  105000.0   \n",
       "Year    1144.0    2016.000000      0.000000   2016.0   2016.0    2016.0   \n",
       "\n",
       "              75%       max  \n",
       "Salary  124425.25  250000.0  \n",
       "Year      2016.00    2016.0  "
      ]
     },
     "metadata": {},
     "output_type": "display_data"
    },
    {
     "name": "stdout",
     "output_type": "stream",
     "text": [
      "2017\n"
     ]
    },
    {
     "data": {
      "text/html": [
       "<div>\n",
       "<style scoped>\n",
       "    .dataframe tbody tr th:only-of-type {\n",
       "        vertical-align: middle;\n",
       "    }\n",
       "\n",
       "    .dataframe tbody tr th {\n",
       "        vertical-align: top;\n",
       "    }\n",
       "\n",
       "    .dataframe thead th {\n",
       "        text-align: right;\n",
       "    }\n",
       "</style>\n",
       "<table border=\"1\" class=\"dataframe\">\n",
       "  <thead>\n",
       "    <tr style=\"text-align: right;\">\n",
       "      <th></th>\n",
       "      <th>count</th>\n",
       "      <th>mean</th>\n",
       "      <th>std</th>\n",
       "      <th>min</th>\n",
       "      <th>25%</th>\n",
       "      <th>50%</th>\n",
       "      <th>75%</th>\n",
       "      <th>max</th>\n",
       "    </tr>\n",
       "  </thead>\n",
       "  <tbody>\n",
       "    <tr>\n",
       "      <th>Salary</th>\n",
       "      <td>1633.0</td>\n",
       "      <td>108316.644825</td>\n",
       "      <td>29273.680896</td>\n",
       "      <td>37482.0</td>\n",
       "      <td>86466.0</td>\n",
       "      <td>105934.0</td>\n",
       "      <td>127000.0</td>\n",
       "      <td>253630.0</td>\n",
       "    </tr>\n",
       "    <tr>\n",
       "      <th>Year</th>\n",
       "      <td>1633.0</td>\n",
       "      <td>2017.000000</td>\n",
       "      <td>0.000000</td>\n",
       "      <td>2017.0</td>\n",
       "      <td>2017.0</td>\n",
       "      <td>2017.0</td>\n",
       "      <td>2017.0</td>\n",
       "      <td>2017.0</td>\n",
       "    </tr>\n",
       "  </tbody>\n",
       "</table>\n",
       "</div>"
      ],
      "text/plain": [
       "         count           mean           std      min      25%       50%  \\\n",
       "Salary  1633.0  108316.644825  29273.680896  37482.0  86466.0  105934.0   \n",
       "Year    1633.0    2017.000000      0.000000   2017.0   2017.0    2017.0   \n",
       "\n",
       "             75%       max  \n",
       "Salary  127000.0  253630.0  \n",
       "Year      2017.0    2017.0  "
      ]
     },
     "metadata": {},
     "output_type": "display_data"
    },
    {
     "name": "stdout",
     "output_type": "stream",
     "text": [
      "2018\n"
     ]
    },
    {
     "data": {
      "text/html": [
       "<div>\n",
       "<style scoped>\n",
       "    .dataframe tbody tr th:only-of-type {\n",
       "        vertical-align: middle;\n",
       "    }\n",
       "\n",
       "    .dataframe tbody tr th {\n",
       "        vertical-align: top;\n",
       "    }\n",
       "\n",
       "    .dataframe thead th {\n",
       "        text-align: right;\n",
       "    }\n",
       "</style>\n",
       "<table border=\"1\" class=\"dataframe\">\n",
       "  <thead>\n",
       "    <tr style=\"text-align: right;\">\n",
       "      <th></th>\n",
       "      <th>count</th>\n",
       "      <th>mean</th>\n",
       "      <th>std</th>\n",
       "      <th>min</th>\n",
       "      <th>25%</th>\n",
       "      <th>50%</th>\n",
       "      <th>75%</th>\n",
       "      <th>max</th>\n",
       "    </tr>\n",
       "  </thead>\n",
       "  <tbody>\n",
       "    <tr>\n",
       "      <th>Salary</th>\n",
       "      <td>2811.0</td>\n",
       "      <td>110799.220206</td>\n",
       "      <td>31729.663787</td>\n",
       "      <td>43056.0</td>\n",
       "      <td>87000.0</td>\n",
       "      <td>108000.0</td>\n",
       "      <td>130000.0</td>\n",
       "      <td>312000.0</td>\n",
       "    </tr>\n",
       "    <tr>\n",
       "      <th>Year</th>\n",
       "      <td>2811.0</td>\n",
       "      <td>2018.000000</td>\n",
       "      <td>0.000000</td>\n",
       "      <td>2018.0</td>\n",
       "      <td>2018.0</td>\n",
       "      <td>2018.0</td>\n",
       "      <td>2018.0</td>\n",
       "      <td>2018.0</td>\n",
       "    </tr>\n",
       "  </tbody>\n",
       "</table>\n",
       "</div>"
      ],
      "text/plain": [
       "         count           mean           std      min      25%       50%  \\\n",
       "Salary  2811.0  110799.220206  31729.663787  43056.0  87000.0  108000.0   \n",
       "Year    2811.0    2018.000000      0.000000   2018.0   2018.0    2018.0   \n",
       "\n",
       "             75%       max  \n",
       "Salary  130000.0  312000.0  \n",
       "Year      2018.0    2018.0  "
      ]
     },
     "metadata": {},
     "output_type": "display_data"
    },
    {
     "name": "stdout",
     "output_type": "stream",
     "text": [
      "2019\n"
     ]
    },
    {
     "data": {
      "text/html": [
       "<div>\n",
       "<style scoped>\n",
       "    .dataframe tbody tr th:only-of-type {\n",
       "        vertical-align: middle;\n",
       "    }\n",
       "\n",
       "    .dataframe tbody tr th {\n",
       "        vertical-align: top;\n",
       "    }\n",
       "\n",
       "    .dataframe thead th {\n",
       "        text-align: right;\n",
       "    }\n",
       "</style>\n",
       "<table border=\"1\" class=\"dataframe\">\n",
       "  <thead>\n",
       "    <tr style=\"text-align: right;\">\n",
       "      <th></th>\n",
       "      <th>count</th>\n",
       "      <th>mean</th>\n",
       "      <th>std</th>\n",
       "      <th>min</th>\n",
       "      <th>25%</th>\n",
       "      <th>50%</th>\n",
       "      <th>75%</th>\n",
       "      <th>max</th>\n",
       "    </tr>\n",
       "  </thead>\n",
       "  <tbody>\n",
       "    <tr>\n",
       "      <th>Salary</th>\n",
       "      <td>2680.0</td>\n",
       "      <td>106119.646642</td>\n",
       "      <td>28695.165149</td>\n",
       "      <td>41246.0</td>\n",
       "      <td>85000.0</td>\n",
       "      <td>100000.0</td>\n",
       "      <td>125000.0</td>\n",
       "      <td>231000.0</td>\n",
       "    </tr>\n",
       "    <tr>\n",
       "      <th>Year</th>\n",
       "      <td>2680.0</td>\n",
       "      <td>2019.000000</td>\n",
       "      <td>0.000000</td>\n",
       "      <td>2019.0</td>\n",
       "      <td>2019.0</td>\n",
       "      <td>2019.0</td>\n",
       "      <td>2019.0</td>\n",
       "      <td>2019.0</td>\n",
       "    </tr>\n",
       "  </tbody>\n",
       "</table>\n",
       "</div>"
      ],
      "text/plain": [
       "         count           mean           std      min      25%       50%  \\\n",
       "Salary  2680.0  106119.646642  28695.165149  41246.0  85000.0  100000.0   \n",
       "Year    2680.0    2019.000000      0.000000   2019.0   2019.0    2019.0   \n",
       "\n",
       "             75%       max  \n",
       "Salary  125000.0  231000.0  \n",
       "Year      2019.0    2019.0  "
      ]
     },
     "metadata": {},
     "output_type": "display_data"
    }
   ],
   "source": [
    "for year in years:\n",
    "    print(year)\n",
    "    display(slice_by_year(h1b1, year).describe().T)"
   ]
  },
  {
   "cell_type": "markdown",
   "metadata": {},
   "source": [
    "## 6 ANOVA Assumptions\n",
    "1. \"The dependent variable should be measured at the continuous level (i.e., it is an interval or ratio variable).\"\n",
    "2. \"Your three independent variables should each consist of two or more categorical, independent groups\"\n",
    "3. \"You should have independence of observations, which means that there is no relationship between the observations in each group or between the groups themselves\"\n",
    "4. \"There should be no significant outliers\"\n",
    "5. \"Your dependent variable should be approximately normally distributed for each combination of the groups of the three independent variables\" (Shapiro-Wilk test)\n",
    "6. \"Homogeneity of variances for each combination of the groups of the three independent variables\" Levene's test"
   ]
  },
  {
   "cell_type": "code",
   "execution_count": 261,
   "metadata": {},
   "outputs": [
    {
     "data": {
      "image/png": "[encoded data removed]",
      "text/plain": [
       "<Figure size 792x432 with 1 Axes>"
      ]
     },
     "metadata": {},
     "output_type": "display_data"
    }
   ],
   "source": [
    "# Let's visually check the distribution of our dependent variable accross experience\n",
    "sns.set(style=\"whitegrid\")\n",
    "dims = (11, 6)\n",
    "fig, ax = plt.subplots(figsize=dims)\n",
    "ax = sns.boxplot(x=h1b1[\"Role\"],\n",
    "                 y=h1b1['Salary'], hue=h1b1['Year'], palette='Blues')\n",
    "plt.xticks(rotation=80)\n",
    "plt.ylabel(\"Annual Salary in USD\")\n",
    "plt.title(\"Annual Data Scientist Salaries Across Years\")\n",
    "plt.show()"
   ]
  },
  {
   "cell_type": "code",
   "execution_count": 273,
   "metadata": {},
   "outputs": [
    {
     "name": "stdout",
     "output_type": "stream",
     "text": [
      "105.7%\n"
     ]
    }
   ],
   "source": [
    "before_drop = len(h1b1)\n",
    "h1b1 = h1b1[h1b1['Salary']>40000]# three values, likely typos or atypical contracts\n",
    "h1b1 = h1b1[h1b1['Salary']<300000] # two values, larson living labs\n",
    "h1b1 = h1b1.drop_duplicates()# several repeat entries\n",
    "print(str(round(before_drop/len(h1b1)*100, 1)) + '%')"
   ]
  },
  {
   "cell_type": "code",
   "execution_count": 274,
   "metadata": {},
   "outputs": [
    {
     "data": {
      "text/plain": [
       "Role\n",
       "DATA SCIENTIST              1480\n",
       "SENIOR DATA SCIENTIST        458\n",
       "DATA SCIENTIST II            119\n",
       "ASSOCIATE DATA SCIENTIST     118\n",
       "LEAD DATA SCIENTIST           94\n",
       "Name: Salary, dtype: int64"
      ]
     },
     "execution_count": 274,
     "metadata": {},
     "output_type": "execute_result"
    }
   ],
   "source": [
    "h1b1.groupby('Role')['Salary'].nunique().sort_values(ascending=False)[0:5]"
   ]
  },
  {
   "cell_type": "code",
   "execution_count": 278,
   "metadata": {},
   "outputs": [
    {
     "name": "stdout",
     "output_type": "stream",
     "text": [
      "2014\n",
      "Role\n",
      "DATA SCIENTIST           44\n",
      "SENIOR DATA SCIENTIST    11\n",
      "LEAD DATA SCIENTIST       2\n",
      "Name: Salary, dtype: int64 \n",
      "\n",
      "2015\n",
      "Role\n",
      "DATA SCIENTIST              186\n",
      "SENIOR DATA SCIENTIST        53\n",
      "ASSOCIATE DATA SCIENTIST     12\n",
      "LEAD DATA SCIENTIST           8\n",
      "DATA SCIENTIST II             7\n",
      "Name: Salary, dtype: int64 \n",
      "\n",
      "2016\n",
      "Role\n",
      "DATA SCIENTIST              280\n",
      "SENIOR DATA SCIENTIST        83\n",
      "ASSOCIATE DATA SCIENTIST     22\n",
      "LEAD DATA SCIENTIST          17\n",
      "DATA SCIENTIST II            17\n",
      "Name: Salary, dtype: int64 \n",
      "\n",
      "2017\n",
      "Role\n",
      "DATA SCIENTIST              410\n",
      "SENIOR DATA SCIENTIST       119\n",
      "ASSOCIATE DATA SCIENTIST     30\n",
      "LEAD DATA SCIENTIST          25\n",
      "DATA SCIENTIST II            21\n",
      "Name: Salary, dtype: int64 \n",
      "\n",
      "2018\n",
      "Role\n",
      "DATA SCIENTIST              613\n",
      "SENIOR DATA SCIENTIST       199\n",
      "DATA SCIENTIST II            47\n",
      "LEAD DATA SCIENTIST          40\n",
      "ASSOCIATE DATA SCIENTIST     38\n",
      "Name: Salary, dtype: int64 \n",
      "\n",
      "2019\n",
      "Role\n",
      "DATA SCIENTIST              471\n",
      "SENIOR DATA SCIENTIST       198\n",
      "DATA SCIENTIST II           119\n",
      "LEAD DATA SCIENTIST          94\n",
      "ASSOCIATE DATA SCIENTIST     58\n",
      "Name: Salary, dtype: int64 \n",
      "\n"
     ]
    }
   ],
   "source": [
    "for year in years:\n",
    "    print(year)\n",
    "    print(slice_by_year(h1b1, year).groupby('Role')['Salary'].nunique().sort_values(ascending=False)[0:5], \"\\n\")"
   ]
  },
  {
   "cell_type": "markdown",
   "metadata": {},
   "source": [
    "Given the size let's take the top 4 values in the top 3 years"
   ]
  },
  {
   "cell_type": "code",
   "execution_count": 279,
   "metadata": {},
   "outputs": [],
   "source": [
    "data_scientists = h1b1[h1b1['Role'] == 'DATA SCIENTIST']\n",
    "senior_data_scientists = h1b1[h1b1['Role'] == 'SENIOR DATA SCIENTIST']\n",
    "lead_data_scientists = h1b1[h1b1['Role'] == 'LEAD DATA SCIENTIST']\n",
    "associate_data_scientists = h1b1[h1b1['Role'] == 'ASSOCIATE DATA SCIENTIST']"
   ]
  },
  {
   "cell_type": "code",
   "execution_count": 311,
   "metadata": {},
   "outputs": [
    {
     "data": {
      "text/plain": [
       "7763"
      ]
     },
     "execution_count": 311,
     "metadata": {},
     "output_type": "execute_result"
    }
   ],
   "source": [
    "h1b1 = pd.concat([data_scientists, senior_data_scientists, lead_data_scientists, associate_data_scientists]) \n",
    "len(h1b1)"
   ]
  },
  {
   "cell_type": "code",
   "execution_count": 283,
   "metadata": {},
   "outputs": [],
   "source": [
    "# h1b1_2014 = slice_by_year(h1b1, 2014)\n",
    "# h1b1_2015 = slice_by_year(h1b1, 2015)\n",
    "# h1b1_2016 = slice_by_year(h1b1, 2016)\n",
    "# h1b1_2017 = slice_by_year(h1b1, 2017)\n",
    "# h1b1_2018 = slice_by_year(h1b1, 2018)\n",
    "# h1b1_2019 = slice_by_year(h1b1, 2019)"
   ]
  },
  {
   "cell_type": "code",
   "execution_count": 284,
   "metadata": {},
   "outputs": [],
   "source": [
    "# # set([x for x in slice_by_year(h1b1,year)])\n",
    "# roles_2017 = list(set([x for x in h1b1_2017.Role]))\n",
    "# for role in roles_2017:\n",
    "#     shapiro_test = stats.shapiro(h1b1_2017[h1b1_2017['Role'] == role][\"Salary\"])\n",
    "#     p_value = shapiro_test[1]\n",
    "#     if p_value > 0.05:\n",
    "#         print(f\"{role}: p-value={p_value}, SATISFIES #5.\")\n",
    "#     else:\n",
    "#         print(f\"{role}: p-value={p_value}, DOES NOT satisfy #5.\")"
   ]
  },
  {
   "cell_type": "code",
   "execution_count": 285,
   "metadata": {},
   "outputs": [],
   "source": [
    "# stats.shapiro(h1b1_2014[h1b1_2014['Role'] == 'SENIOR DATA SCIENTIST'][\"Salary\"])"
   ]
  },
  {
   "cell_type": "markdown",
   "metadata": {},
   "source": [
    "Let's do a one-way ANOVA for two of our largest, complete years"
   ]
  },
  {
   "cell_type": "code",
   "execution_count": 312,
   "metadata": {},
   "outputs": [],
   "source": [
    "years_2017_2018_2019 = [2017, 2018, 2019]"
   ]
  },
  {
   "cell_type": "code",
   "execution_count": 313,
   "metadata": {},
   "outputs": [
    {
     "name": "stdout",
     "output_type": "stream",
     "text": [
      "Oneway ANOVA test for 2017\n",
      "                sum_sq      df          F        PR(>F)\n",
      "C(Role)   1.346964e+11     3.0  59.519345  2.674445e-36\n",
      "Residual  1.100606e+12  1459.0        NaN           NaN \n",
      "\n",
      "Shapiro-Wilk test\n",
      "2017: p-value=3.5938610420949146e-10, DOES NOT satisfy #5.\n",
      "------------\n",
      "\n",
      "Oneway ANOVA test for 2018\n",
      "                sum_sq      df          F        PR(>F)\n",
      "C(Role)   1.643107e+11     3.0  59.086773  7.559270e-37\n",
      "Residual  2.221890e+12  2397.0        NaN           NaN \n",
      "\n",
      "Shapiro-Wilk test\n",
      "2018: p-value=9.144551816689665e-17, DOES NOT satisfy #5.\n",
      "------------\n",
      "\n",
      "Oneway ANOVA test for 2019\n",
      "                sum_sq      df          F        PR(>F)\n",
      "C(Role)   2.062370e+11     3.0  90.273139  5.116261e-55\n",
      "Residual  1.635765e+12  2148.0        NaN           NaN \n",
      "\n",
      "Shapiro-Wilk test\n",
      "2019: p-value=8.169802865281183e-19, DOES NOT satisfy #5.\n",
      "------------\n",
      "\n"
     ]
    }
   ],
   "source": [
    "for year in years_2017_2018_2019:\n",
    "    print(f\"Oneway ANOVA test for {year}\")\n",
    "    h1b1_year = slice_by_year(h1b1,year)\n",
    "    formula = 'Salary ~ C(Role)'\n",
    "    lm = ols(formula, h1b1_year).fit()\n",
    "    table = sm.stats.anova_lm(lm, typ=2)\n",
    "    print(table, \"\\n\")\n",
    "    shapiro_test = stats.shapiro(lm.resid)\n",
    "    p_value = shapiro_test[1]\n",
    "    print(f\"Shapiro-Wilk test\")\n",
    "    if p_value > 0.05:\n",
    "        print(f\"{year}: p-value={p_value}, SATISFIES #5.\")\n",
    "    else:\n",
    "        print(f\"{year}: p-value={p_value}, DOES NOT satisfy #5.\")\n",
    "    print(\"------------\\n\")\n",
    "#     roles = list(set([x for x in h1b1_year.Role]))\n",
    "#     for role in roles:\n",
    "#         shapiro_test = stats.shapiro(lm.resid)\n",
    "#         p_value = shapiro_test[1]\n",
    "#         if p_value > 0.05:\n",
    "#             print(f\"{role}: p-value={p_value}, SATISFIES #5.\")\n",
    "#         else:\n",
    "#             print(f\"{role}: p-value={p_value}, DOES NOT satisfy #5.\")"
   ]
  },
  {
   "cell_type": "code",
   "execution_count": 62,
   "metadata": {},
   "outputs": [],
   "source": [
    "# senior_ds = h1b1[h1b1['Role'] == 'SENIOR DATA SCIENTIST']\n",
    "# senior_ds.head()"
   ]
  },
  {
   "cell_type": "code",
   "execution_count": 63,
   "metadata": {},
   "outputs": [],
   "source": [
    "# just_ds = h1b1[h1b1['Role'] == 'DATA SCIENTIST']\n",
    "# just_ds.head()"
   ]
  },
  {
   "cell_type": "code",
   "execution_count": 64,
   "metadata": {},
   "outputs": [],
   "source": [
    "# print(len(senior_ds))\n",
    "# print(len(just_ds))\n",
    "# print(len(senior_ds) + len(just_ds))"
   ]
  },
  {
   "cell_type": "code",
   "execution_count": 65,
   "metadata": {},
   "outputs": [],
   "source": [
    "# senior_and_just_ds = pd.concat([senior_ds, just_ds])\n",
    "# senior_and_just_ds.head()"
   ]
  },
  {
   "cell_type": "code",
   "execution_count": 66,
   "metadata": {},
   "outputs": [],
   "source": [
    "# len(senior_and_just_ds)"
   ]
  },
  {
   "cell_type": "code",
   "execution_count": 218,
   "metadata": {},
   "outputs": [],
   "source": [
    "# for year in years:\n",
    "#     print(f\"Tukey post-hoc test for {year}\")\n",
    "#     print(pairwise_tukeyhsd(slice_by_year(h1b1, year).Salary, slice_by_year(h1b1, year).Role, alpha=0.05))"
   ]
  },
  {
   "cell_type": "markdown",
   "metadata": {},
   "source": [
    "So our ANOVA in both years fails the 5th assumption (not surprising since it's not a random sample)...on to non-parametric tests!"
   ]
  },
  {
   "cell_type": "code",
   "execution_count": 294,
   "metadata": {},
   "outputs": [
    {
     "name": "stdout",
     "output_type": "stream",
     "text": [
      "Kruskal-Wallis Test results for 2017's data:\n",
      "Statistics = 162.000, p = 0.00\n",
      "Different distributions (reject H0) \n",
      "\n",
      "Kruskal-Wallis Test results for 2018's data:\n",
      "Statistics = 167.971, p = 0.00\n",
      "Different distributions (reject H0) \n",
      "\n",
      "Kruskal-Wallis Test results for 2019's data:\n",
      "Statistics = 235.676, p = 0.00\n",
      "Different distributions (reject H0) \n",
      "\n"
     ]
    }
   ],
   "source": [
    "for year in years_2017_2018:\n",
    "    roles = list(set([x for x in slice_by_year(h1b1, year).Role]))\n",
    "    combos = list(itertools.combinations(roles, 2))\n",
    "    h1b1_year = slice_by_year(h1b1,year)\n",
    "    stat, p = stats.kruskal(h1b1_year[h1b1_year['Role'] == roles[0]].Salary,\n",
    "                            h1b1_year[h1b1_year['Role'] == roles[1]].Salary, \n",
    "                            h1b1_year[h1b1_year['Role'] == roles[2]].Salary,\n",
    "                            h1b1_year[h1b1_year['Role'] == roles[3]].Salary) \n",
    "#                             h1b1_year[h1b1_year['Role'] == roles[4]].Salary, \n",
    "#                             h1b1_year[h1b1_year['Role'] == roles[5]].Salary, \n",
    "#                             h1b1_year[h1b1_year['Role'] == roles[6]].Salary, \n",
    "#                             h1b1_year[h1b1_year['Role'] == roles[7]].Salary, \n",
    "#                             h1b1_year[h1b1_year['Role'] == roles[8]].Salary)\n",
    "    print(f\"Kruskal-Wallis Test results for {year}'s data:\")\n",
    "    print('Statistics = %.3f, p = %.2f' % (stat, p))\n",
    "    # interpret\n",
    "    alpha = 0.05\n",
    "    if p > alpha:\n",
    "        print('Same distributions (fail to reject H0) \\n')\n",
    "    else:\n",
    "        print('Different distributions (reject H0) \\n')"
   ]
  },
  {
   "cell_type": "code",
   "execution_count": 299,
   "metadata": {},
   "outputs": [
    {
     "data": {
      "text/html": [
       "<div>\n",
       "<style scoped>\n",
       "    .dataframe tbody tr th:only-of-type {\n",
       "        vertical-align: middle;\n",
       "    }\n",
       "\n",
       "    .dataframe tbody tr th {\n",
       "        vertical-align: top;\n",
       "    }\n",
       "\n",
       "    .dataframe thead th {\n",
       "        text-align: right;\n",
       "    }\n",
       "</style>\n",
       "<table border=\"1\" class=\"dataframe\">\n",
       "  <thead>\n",
       "    <tr style=\"text-align: right;\">\n",
       "      <th></th>\n",
       "      <th>ASSOCIATE DATA SCIENTIST</th>\n",
       "      <th>DATA SCIENTIST</th>\n",
       "      <th>LEAD DATA SCIENTIST</th>\n",
       "      <th>SENIOR DATA SCIENTIST</th>\n",
       "    </tr>\n",
       "  </thead>\n",
       "  <tbody>\n",
       "    <tr>\n",
       "      <th>ASSOCIATE DATA SCIENTIST</th>\n",
       "      <td>-1.0</td>\n",
       "      <td>0.000</td>\n",
       "      <td>0.000</td>\n",
       "      <td>0.000</td>\n",
       "    </tr>\n",
       "    <tr>\n",
       "      <th>DATA SCIENTIST</th>\n",
       "      <td>0.0</td>\n",
       "      <td>-1.000</td>\n",
       "      <td>0.038</td>\n",
       "      <td>0.000</td>\n",
       "    </tr>\n",
       "    <tr>\n",
       "      <th>LEAD DATA SCIENTIST</th>\n",
       "      <td>0.0</td>\n",
       "      <td>0.038</td>\n",
       "      <td>-1.000</td>\n",
       "      <td>0.038</td>\n",
       "    </tr>\n",
       "    <tr>\n",
       "      <th>SENIOR DATA SCIENTIST</th>\n",
       "      <td>0.0</td>\n",
       "      <td>0.000</td>\n",
       "      <td>0.038</td>\n",
       "      <td>-1.000</td>\n",
       "    </tr>\n",
       "  </tbody>\n",
       "</table>\n",
       "</div>"
      ],
      "text/plain": [
       "                          ASSOCIATE DATA SCIENTIST  DATA SCIENTIST  \\\n",
       "ASSOCIATE DATA SCIENTIST                      -1.0           0.000   \n",
       "DATA SCIENTIST                                 0.0          -1.000   \n",
       "LEAD DATA SCIENTIST                            0.0           0.038   \n",
       "SENIOR DATA SCIENTIST                          0.0           0.000   \n",
       "\n",
       "                          LEAD DATA SCIENTIST  SENIOR DATA SCIENTIST  \n",
       "ASSOCIATE DATA SCIENTIST                0.000                  0.000  \n",
       "DATA SCIENTIST                          0.038                  0.000  \n",
       "LEAD DATA SCIENTIST                    -1.000                  0.038  \n",
       "SENIOR DATA SCIENTIST                   0.038                 -1.000  "
      ]
     },
     "metadata": {},
     "output_type": "display_data"
    }
   ],
   "source": [
    "df = ph.posthoc_conover(slice_by_year(h1b1,2017), val_col='Salary', group_col='Role', p_adjust = 'holm')\n",
    "display(df.round(3))"
   ]
  },
  {
   "cell_type": "markdown",
   "metadata": {},
   "source": [
    "All combinations in our non-random sample fall below alpha so we can reject the null hypothesis: data science salaries for foreigners did differ significantly based on title (and by proxy, experience)."
   ]
  },
  {
   "cell_type": "code",
   "execution_count": 300,
   "metadata": {},
   "outputs": [
    {
     "data": {
      "text/html": [
       "<div>\n",
       "<style scoped>\n",
       "    .dataframe tbody tr th:only-of-type {\n",
       "        vertical-align: middle;\n",
       "    }\n",
       "\n",
       "    .dataframe tbody tr th {\n",
       "        vertical-align: top;\n",
       "    }\n",
       "\n",
       "    .dataframe thead th {\n",
       "        text-align: right;\n",
       "    }\n",
       "</style>\n",
       "<table border=\"1\" class=\"dataframe\">\n",
       "  <thead>\n",
       "    <tr style=\"text-align: right;\">\n",
       "      <th></th>\n",
       "      <th>ASSOCIATE DATA SCIENTIST</th>\n",
       "      <th>DATA SCIENTIST</th>\n",
       "      <th>LEAD DATA SCIENTIST</th>\n",
       "      <th>SENIOR DATA SCIENTIST</th>\n",
       "    </tr>\n",
       "  </thead>\n",
       "  <tbody>\n",
       "    <tr>\n",
       "      <th>ASSOCIATE DATA SCIENTIST</th>\n",
       "      <td>-1.0</td>\n",
       "      <td>0.000</td>\n",
       "      <td>0.000</td>\n",
       "      <td>0.00</td>\n",
       "    </tr>\n",
       "    <tr>\n",
       "      <th>DATA SCIENTIST</th>\n",
       "      <td>0.0</td>\n",
       "      <td>-1.000</td>\n",
       "      <td>0.008</td>\n",
       "      <td>0.00</td>\n",
       "    </tr>\n",
       "    <tr>\n",
       "      <th>LEAD DATA SCIENTIST</th>\n",
       "      <td>0.0</td>\n",
       "      <td>0.008</td>\n",
       "      <td>-1.000</td>\n",
       "      <td>0.21</td>\n",
       "    </tr>\n",
       "    <tr>\n",
       "      <th>SENIOR DATA SCIENTIST</th>\n",
       "      <td>0.0</td>\n",
       "      <td>0.000</td>\n",
       "      <td>0.210</td>\n",
       "      <td>-1.00</td>\n",
       "    </tr>\n",
       "  </tbody>\n",
       "</table>\n",
       "</div>"
      ],
      "text/plain": [
       "                          ASSOCIATE DATA SCIENTIST  DATA SCIENTIST  \\\n",
       "ASSOCIATE DATA SCIENTIST                      -1.0           0.000   \n",
       "DATA SCIENTIST                                 0.0          -1.000   \n",
       "LEAD DATA SCIENTIST                            0.0           0.008   \n",
       "SENIOR DATA SCIENTIST                          0.0           0.000   \n",
       "\n",
       "                          LEAD DATA SCIENTIST  SENIOR DATA SCIENTIST  \n",
       "ASSOCIATE DATA SCIENTIST                0.000                   0.00  \n",
       "DATA SCIENTIST                          0.008                   0.00  \n",
       "LEAD DATA SCIENTIST                    -1.000                   0.21  \n",
       "SENIOR DATA SCIENTIST                   0.210                  -1.00  "
      ]
     },
     "metadata": {},
     "output_type": "display_data"
    }
   ],
   "source": [
    "# let's try 2018\n",
    "df = ph.posthoc_conover(slice_by_year(h1b1,2018), val_col='Salary', group_col='Role', p_adjust = 'holm')\n",
    "display(df.round(3))"
   ]
  },
  {
   "cell_type": "markdown",
   "metadata": {},
   "source": [
    "It looks like the difference between lead data scientists' and senior data scientists' salaries is not longer significant. Let's highlight that."
   ]
  },
  {
   "cell_type": "code",
   "execution_count": 304,
   "metadata": {},
   "outputs": [
    {
     "data": {
      "image/png": "[encoded data removed]",
      "text/plain": [
       "<Figure size 432x288 with 1 Axes>"
      ]
     },
     "metadata": {},
     "output_type": "display_data"
    }
   ],
   "source": [
    "plt.pcolor(df, vmin=alpha)\n",
    "plt.yticks(np.arange(0.5, len(df.index), 1), df.index)\n",
    "plt.xticks(np.arange(0.5, len(df.columns), 1), df.columns, rotation= 75)\n",
    "plt.title(\"Conover Posthoc for 2017\")\n",
    "plt.show()"
   ]
  },
  {
   "cell_type": "code",
   "execution_count": 309,
   "metadata": {},
   "outputs": [
    {
     "data": {
      "text/html": [
       "<div>\n",
       "<style scoped>\n",
       "    .dataframe tbody tr th:only-of-type {\n",
       "        vertical-align: middle;\n",
       "    }\n",
       "\n",
       "    .dataframe tbody tr th {\n",
       "        vertical-align: top;\n",
       "    }\n",
       "\n",
       "    .dataframe thead th {\n",
       "        text-align: right;\n",
       "    }\n",
       "</style>\n",
       "<table border=\"1\" class=\"dataframe\">\n",
       "  <thead>\n",
       "    <tr style=\"text-align: right;\">\n",
       "      <th></th>\n",
       "      <th>ASSOCIATE DATA SCIENTIST</th>\n",
       "      <th>DATA SCIENTIST</th>\n",
       "      <th>LEAD DATA SCIENTIST</th>\n",
       "      <th>SENIOR DATA SCIENTIST</th>\n",
       "    </tr>\n",
       "  </thead>\n",
       "  <tbody>\n",
       "    <tr>\n",
       "      <th>ASSOCIATE DATA SCIENTIST</th>\n",
       "      <td>-1.0</td>\n",
       "      <td>0.0</td>\n",
       "      <td>0.000</td>\n",
       "      <td>0.000</td>\n",
       "    </tr>\n",
       "    <tr>\n",
       "      <th>DATA SCIENTIST</th>\n",
       "      <td>0.0</td>\n",
       "      <td>-1.0</td>\n",
       "      <td>0.000</td>\n",
       "      <td>0.000</td>\n",
       "    </tr>\n",
       "    <tr>\n",
       "      <th>LEAD DATA SCIENTIST</th>\n",
       "      <td>0.0</td>\n",
       "      <td>0.0</td>\n",
       "      <td>-1.000</td>\n",
       "      <td>0.346</td>\n",
       "    </tr>\n",
       "    <tr>\n",
       "      <th>SENIOR DATA SCIENTIST</th>\n",
       "      <td>0.0</td>\n",
       "      <td>0.0</td>\n",
       "      <td>0.346</td>\n",
       "      <td>-1.000</td>\n",
       "    </tr>\n",
       "  </tbody>\n",
       "</table>\n",
       "</div>"
      ],
      "text/plain": [
       "                          ASSOCIATE DATA SCIENTIST  DATA SCIENTIST  \\\n",
       "ASSOCIATE DATA SCIENTIST                      -1.0             0.0   \n",
       "DATA SCIENTIST                                 0.0            -1.0   \n",
       "LEAD DATA SCIENTIST                            0.0             0.0   \n",
       "SENIOR DATA SCIENTIST                          0.0             0.0   \n",
       "\n",
       "                          LEAD DATA SCIENTIST  SENIOR DATA SCIENTIST  \n",
       "ASSOCIATE DATA SCIENTIST                0.000                  0.000  \n",
       "DATA SCIENTIST                          0.000                  0.000  \n",
       "LEAD DATA SCIENTIST                    -1.000                  0.346  \n",
       "SENIOR DATA SCIENTIST                   0.346                 -1.000  "
      ]
     },
     "metadata": {},
     "output_type": "display_data"
    }
   ],
   "source": [
    "# Our guess is that this convergence continues in the first-third of 2019\n",
    "df = ph.posthoc_conover(slice_by_year(h1b1,2019), val_col='Salary', group_col='Role', p_adjust = 'holm')\n",
    "display(df.round(3))"
   ]
  },
  {
   "cell_type": "code",
   "execution_count": 314,
   "metadata": {},
   "outputs": [
    {
     "data": {
      "image/png": "[encoded data removed]",
      "text/plain": [
       "<Figure size 432x288 with 1 Axes>"
      ]
     },
     "metadata": {},
     "output_type": "display_data"
    }
   ],
   "source": [
    "plt.pcolor(df, vmin=alpha)\n",
    "plt.yticks(np.arange(0.5, len(df.index), 1), df.index)\n",
    "plt.xticks(np.arange(0.5, len(df.columns), 1), df.columns, rotation= 75)\n",
    "plt.title(\"Conover Posthoc for 2017\")\n",
    "plt.show()"
   ]
  },
  {
   "cell_type": "code",
   "execution_count": null,
   "metadata": {},
   "outputs": [],
   "source": [
    "# still need to test for heteroskedasticity though hopefully the years selection took care of this."
   ]
  }
 ],
 "metadata": {
  "kernelspec": {
   "display_name": "Python 3",
   "language": "python",
   "name": "python3"
  },
  "language_info": {
   "codemirror_mode": {
    "name": "ipython",
    "version": 3
   },
   "file_extension": ".py",
   "mimetype": "text/x-python",
   "name": "python",
   "nbconvert_exporter": "python",
   "pygments_lexer": "ipython3",
   "version": "3.7.3"
  }
 },
 "nbformat": 4,
 "nbformat_minor": 2
}
